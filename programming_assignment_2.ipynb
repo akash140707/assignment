{
  "nbformat": 4,
  "nbformat_minor": 0,
  "metadata": {
    "colab": {
      "provenance": []
    },
    "kernelspec": {
      "name": "python3",
      "display_name": "Python 3"
    },
    "language_info": {
      "name": "python"
    }
  },
  "cells": [
    {
      "cell_type": "markdown",
      "source": [
        "1. Write a Python program to convert kilometers to miles?"
      ],
      "metadata": {
        "id": "Ojzrm6z4XPSl"
      }
    },
    {
      "cell_type": "code",
      "execution_count": null,
      "metadata": {
        "colab": {
          "base_uri": "https://localhost:8080/"
        },
        "id": "QNAao6xQW7FH",
        "outputId": "3d7f82e5-aadf-49c9-f857-763cff0e7790"
      },
      "outputs": [
        {
          "output_type": "stream",
          "name": "stdout",
          "text": [
            "Enter distance in kilometer: 10\n",
            "10.0 kilometer is equal to 6.21371 miles\n"
          ]
        }
      ],
      "source": [
        "kilometer = float(input(\"Enter distance in kilometer: \"))\n",
        "\n",
        "\n",
        "# conversion_fector = 1 kilometer = 0.621371 miles\n",
        "\n",
        "\n",
        "conversion_fector = 0.621371\n",
        "\n",
        "miles = conversion_fector * kilometer\n",
        "\n",
        "print(f\"{kilometer} kilometer is equal to {miles} miles\")"
      ]
    },
    {
      "cell_type": "markdown",
      "source": [
        "2. Write a Python program to convert Celsius to Fahrenheit?"
      ],
      "metadata": {
        "id": "dwxHg9kdZyCg"
      }
    },
    {
      "cell_type": "code",
      "source": [
        "celsius = float(input(\"Enter the temprature in celsius: \"))\n",
        "\n",
        "#  conversion_fector: (celsius * (9/5) + 32)\n",
        "\n",
        "Fahrenheit = (celsius * (9/5) + 32)\n",
        "\n",
        "print(f\"{celsius} degrees Celsius is equal to  {Fahrenheit} degree fahrenheit\")\n",
        "\n"
      ],
      "metadata": {
        "colab": {
          "base_uri": "https://localhost:8080/"
        },
        "id": "rEEfxqMpZgto",
        "outputId": "f6639edd-cc90-4ef1-e03a-d171483ba2ed"
      },
      "execution_count": null,
      "outputs": [
        {
          "output_type": "stream",
          "name": "stdout",
          "text": [
            "Enter the temprature in celsius: 65\n",
            "65.0 degrees Celsius is equal to  149.0 degree fahrenheit\n"
          ]
        }
      ]
    },
    {
      "cell_type": "markdown",
      "source": [
        "3. Write a Python program to display calendar?"
      ],
      "metadata": {
        "id": "j8D8C_aict9K"
      }
    },
    {
      "cell_type": "code",
      "source": [
        "\n",
        "import calendar\n",
        "\n",
        "year = int(input(\"Enter the year of calender: \"))\n",
        "month = int(input(\"Enter the month of calender: \"))\n",
        "\n",
        "cal = calendar.month(year,month)\n",
        "\n",
        "print(\"Calendar\")\n",
        "print(cal)"
      ],
      "metadata": {
        "colab": {
          "base_uri": "https://localhost:8080/"
        },
        "id": "Ycaeqi3kb1lV",
        "outputId": "dfbacced-0034-45c4-8a8c-7b66a3650da8"
      },
      "execution_count": null,
      "outputs": [
        {
          "output_type": "stream",
          "name": "stdout",
          "text": [
            "Enter the year of calender: 2023\n",
            "Enter the month of calender: 8\n",
            "Calendar\n",
            "    August 2023\n",
            "Mo Tu We Th Fr Sa Su\n",
            "    1  2  3  4  5  6\n",
            " 7  8  9 10 11 12 13\n",
            "14 15 16 17 18 19 20\n",
            "21 22 23 24 25 26 27\n",
            "28 29 30 31\n",
            "\n"
          ]
        }
      ]
    },
    {
      "cell_type": "markdown",
      "source": [
        "4. Write a Python program to solve quadratic equation?"
      ],
      "metadata": {
        "id": "yL-n8YRqDWmg"
      }
    },
    {
      "cell_type": "code",
      "source": [
        "import math\n",
        "\n",
        "def solve_quadratic(a, b, c):\n",
        "  discriminant = b**2-4*a*c\n",
        "  if discriminant > 0:\n",
        "    root1 = (-b + math.sqrt(discriminant))/(2*a)\n",
        "    root2 = (-b - math.sqrt(discriminant))/(2*a)\n",
        "    return root1, root2\n",
        "  elif discriminant ==0:\n",
        "    root = -b /(2*a)\n",
        "    return root\n",
        "  else:\n",
        "    return (\"Complex roots\")\n",
        "\n",
        "a = float(input(\"Enter coefficient a: \"))\n",
        "b = float(input(\"Enter coefficient b: \"))\n",
        "c = float(input(\"Enter coefficient c: \"))\n",
        "\n",
        "\n",
        "result = solve_quadratic(a, b, c)\n",
        "\n",
        "\n",
        "if type(result) == tuple:\n",
        "  root1, root2 = result\n",
        "  print(f\"the root are {root1} and {root2}\")\n",
        "elif type(result) == float:\n",
        "  print(f\"the root is {result}\")\n",
        "\n",
        "else:\n",
        "  print(result)\n"
      ],
      "metadata": {
        "id": "w3ESn9G2df2S",
        "colab": {
          "base_uri": "https://localhost:8080/"
        },
        "outputId": "a215aeb3-201c-42bc-d41d-982c25025d13"
      },
      "execution_count": 6,
      "outputs": [
        {
          "output_type": "stream",
          "name": "stdout",
          "text": [
            "Enter coefficient a: 1\n",
            "Enter coefficient b: 2\n",
            "Enter coefficient c: 3\n",
            "Complex roots\n"
          ]
        }
      ]
    },
    {
      "cell_type": "markdown",
      "source": [
        "5. Write a Python program to swap two variables without temp variable?"
      ],
      "metadata": {
        "id": "WFIgR8oHKqgJ"
      }
    },
    {
      "cell_type": "code",
      "source": [
        "def swap_two_variables(a,b):\n",
        "  a = a+b\n",
        "  b = a-b\n",
        "  a = a-b\n",
        "  return a,b\n",
        "\n",
        "x = int(input(\"Enter the value of x: \"))\n",
        "y = int(input(\"Enter the value of y: \"))\n",
        "\n",
        "x,y = swap_two_variables(x,y)\n",
        "\n",
        "print(\"After swaping\")\n",
        "print(\"x = \",x)\n",
        "print(\"y = \",y)"
      ],
      "metadata": {
        "colab": {
          "base_uri": "https://localhost:8080/"
        },
        "id": "kK-xuIObIVfa",
        "outputId": "c41d7257-bc43-48d3-d306-faab704f10b9"
      },
      "execution_count": 11,
      "outputs": [
        {
          "output_type": "stream",
          "name": "stdout",
          "text": [
            "Enter the value of x: 45\n",
            "Enter the value of y: 56\n",
            "After swaping\n",
            "x =  56\n",
            "y =  45\n"
          ]
        }
      ]
    },
    {
      "cell_type": "code",
      "source": [],
      "metadata": {
        "id": "1h8zUkvDNPje"
      },
      "execution_count": null,
      "outputs": []
    }
  ]
}