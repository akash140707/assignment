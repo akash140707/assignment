{
  "nbformat": 4,
  "nbformat_minor": 0,
  "metadata": {
    "colab": {
      "provenance": []
    },
    "kernelspec": {
      "name": "python3",
      "display_name": "Python 3"
    },
    "language_info": {
      "name": "python"
    }
  },
  "cells": [
    {
      "cell_type": "markdown",
      "source": [
        "1. What advantages do Excel spreadsheets have over CSV spreadsheets?\n",
        "\n",
        "**Ans:** The Advantages of Excel over CSV are:\n",
        "\n",
        "1. Excel (XLS and XLSX) file formats are better for storing and analysing complex data.\n",
        "2. An Excel not only stores data but can also do operations on the data using macros, formulas etc\n",
        "3. CSV files are plain-text files, Does not contain formatting, formulas, macros, etc. It is also known as flat files"
      ],
      "metadata": {
        "id": "aFnjx2Vc7D1a"
      }
    },
    {
      "cell_type": "markdown",
      "source": [
        "2. What do you pass to csv.reader() and csv.writer() to create reader and writer objects?"
      ],
      "metadata": {
        "id": "RiT2Fqm47E8o"
      }
    },
    {
      "cell_type": "code",
      "source": [
        "import csv\n",
        "with open('text.csv','r') as file:\n",
        "    csv_file = csv.reader(file,delimiter=',')\n",
        "    for ele in csv_file:\n",
        "        print(ele)"
      ],
      "metadata": {
        "id": "Yi7ABDMb79j_"
      },
      "execution_count": null,
      "outputs": []
    },
    {
      "cell_type": "markdown",
      "source": [
        "3. What modes do File objects for reader and writer objects need to be opened in?\n",
        "\n",
        "**Ans:**  For csv.reader(iterable_file_object), the file objects needed to be opened in read mode mode='r' Whereas for csv.writer(iterable_file_object) the file objects needed to be opened in write mode mode='w'"
      ],
      "metadata": {
        "id": "J794anXe7E5P"
      }
    },
    {
      "cell_type": "markdown",
      "source": [
        "4. What method takes a list argument and writes it to a CSV file?\n",
        "\n",
        "Ans: csv.writer class provides two methods for writing to CSV. They are writerow() and writerows(). writerow() method writes a single row at a time. Whereas writerows() method is used to write multiple rows at a time."
      ],
      "metadata": {
        "id": "OzivBjXk7E26"
      }
    },
    {
      "cell_type": "code",
      "source": [
        "# Example Program\n",
        "import csv\n",
        "fields = ['Name', 'Branch', 'Year', 'CGPA'] #column names\n",
        "rows = [\n",
        "            ['Nikhil', 'COE', '2', '9.0'],  # data rows of csv file\n",
        "            ['Sanchit', 'COE', '2', '9.1'],\n",
        "            ['Ravi', 'IT', '2', '9.3']\n",
        "       ]\n",
        "with open(\"university_records.csv\", 'w') as csvfile:\n",
        "    csvwriter = csv.writer(csvfile) # creating a csv writer object\n",
        "    csvwriter.writerow(fields) # writing the fields\n",
        "    csvwriter.writerows(rows) # writing the data rows"
      ],
      "metadata": {
        "id": "dCrVs4kt8y6X"
      },
      "execution_count": null,
      "outputs": []
    },
    {
      "cell_type": "markdown",
      "source": [
        "5. What do the keyword arguments delimiter and line terminator do?\n",
        "\n",
        "**Ans:** Lets take the example of a csv file:\n",
        "\n",
        "First Name, Last Name, Age\n",
        "\n",
        "Mano, Vishnu, 24\n",
        "\n",
        "Vishnu, Vardhan, 21\n",
        "\n",
        "Here ',' is Delimiter. We can use any Character as per our needs if required. Similarly Line Terminator comes at end of line by default it is newline and can be changed accourding to Requirement."
      ],
      "metadata": {
        "id": "qtkm_PKd7E0T"
      }
    },
    {
      "cell_type": "markdown",
      "source": [
        "6. What function takes a string of JSON data and returns a Python data structure?\n",
        "\n",
        "**Ans:** loads() method takes a string of JSON data and returns a Python data structure\n",
        "\n"
      ],
      "metadata": {
        "id": "pvJZexFR7EyG"
      }
    },
    {
      "cell_type": "code",
      "source": [
        "# Example of json.loads() method\n",
        "import json\n",
        "my_details_json ='''{\n",
        "    \"Name\": \"Mano Vishnu\",\n",
        "    \"Qualification\": \"Bachelor of Technology\",\n",
        "    \"Stream\": \"Computer Science and Engineering\"\n",
        "}'''\n",
        "print(my_details_json)\n",
        "print(f'Type of my_details_json is {type(my_details_json)}')\n",
        "my_details = json.loads(my_details_json)\n",
        "print(my_details)\n",
        "print(f'Type of my_details is {type(my_details)}')"
      ],
      "metadata": {
        "colab": {
          "base_uri": "https://localhost:8080/"
        },
        "id": "9wsdlO--9cYK",
        "outputId": "83e846ab-7dd9-4d48-f72f-083e24979f19"
      },
      "execution_count": 1,
      "outputs": [
        {
          "output_type": "stream",
          "name": "stdout",
          "text": [
            "{\n",
            "    \"Name\": \"Mano Vishnu\",\n",
            "    \"Qualification\": \"Bachelor of Technology\",\n",
            "    \"Stream\": \"Computer Science and Engineering\"\n",
            "}\n",
            "Type of my_details_json is <class 'str'>\n",
            "{'Name': 'Mano Vishnu', 'Qualification': 'Bachelor of Technology', 'Stream': 'Computer Science and Engineering'}\n",
            "Type of my_details is <class 'dict'>\n"
          ]
        }
      ]
    },
    {
      "cell_type": "markdown",
      "source": [
        "7. What function takes a Python data structure and returns a string of JSON data?\n",
        "\n",
        "**Ans:** dumps() method takes a python data structure and returns a string of JSON data"
      ],
      "metadata": {
        "id": "7yj4YOr07gJe"
      }
    },
    {
      "cell_type": "code",
      "execution_count": 3,
      "metadata": {
        "colab": {
          "base_uri": "https://localhost:8080/"
        },
        "id": "RBqNvzFM6vJF",
        "outputId": "eb262482-83fc-46fc-f63a-fe0cacf822a1"
      },
      "outputs": [
        {
          "output_type": "stream",
          "name": "stdout",
          "text": [
            "{'Name': 'Mano Vishnu', 'Stream': 'Computer Science and Engineering', 'Qualification': 'Bachelor of Technology'}\n",
            "Type of my_details is <class 'dict'>\n",
            "{\n",
            "    \"Name\": \"Mano Vishnu\",\n",
            "    \"Qualification\": \"Bachelor of Technology\",\n",
            "    \"Stream\": \"Computer Science and Engineering\"\n",
            "}\n",
            "Type of my_details_json is <class 'str'>\n"
          ]
        }
      ],
      "source": [
        "# Example of json.dumps() method\n",
        "import json\n",
        "my_details = {\n",
        "    'Name':'Mano Vishnu',\n",
        "    'Stream':'Computer Science and Engineering',\n",
        "    'Qualification':'Bachelor of Technology'\n",
        "}\n",
        "print(my_details)\n",
        "print(f'Type of my_details is {type(my_details)}')\n",
        "my_details_json = json.dumps(my_details, indent=4, sort_keys=True)\n",
        "print(my_details_json)\n",
        "print(f'Type of my_details_json is {type(my_details_json)}')"
      ]
    },
    {
      "cell_type": "code",
      "source": [],
      "metadata": {
        "id": "J10M3iNc95Ja"
      },
      "execution_count": null,
      "outputs": []
    }
  ]
}