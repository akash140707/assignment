{
  "nbformat": 4,
  "nbformat_minor": 0,
  "metadata": {
    "colab": {
      "provenance": []
    },
    "kernelspec": {
      "name": "python3",
      "display_name": "Python 3"
    },
    "language_info": {
      "name": "python"
    }
  },
  "cells": [
    {
      "cell_type": "markdown",
      "source": [
        "1. Write a Python Program to find sum of array?"
      ],
      "metadata": {
        "id": "XcoK8kH1nHo9"
      }
    },
    {
      "cell_type": "code",
      "source": [
        "def sumOfArray():\n",
        "    in_arr = eval(input(\"Enter the Array: \"))\n",
        "    print(f'The sum of {in_arr} is {sum(in_arr)}')\n",
        "\n",
        "sumOfArray()\n"
      ],
      "metadata": {
        "id": "33mU01rvnhyq",
        "colab": {
          "base_uri": "https://localhost:8080/"
        },
        "outputId": "7adf7be3-fb4a-46ba-ecb3-7ca10edee7a6"
      },
      "execution_count": 6,
      "outputs": [
        {
          "output_type": "stream",
          "name": "stdout",
          "text": [
            "Enter the Array: 1,2,3,4,5\n",
            "The sum of (1, 2, 3, 4, 5) is 15\n"
          ]
        }
      ]
    },
    {
      "cell_type": "markdown",
      "source": [
        "2. Write a Python Program to find largest element in an array?"
      ],
      "metadata": {
        "id": "jLMjgR1ynKy0"
      }
    },
    {
      "cell_type": "code",
      "source": [
        "def largestElement():\n",
        "    in_arr = eval(input(\"Enter the Array: \"))\n",
        "    print(f\"The Largest Element in {in_arr} is {sorted(in_arr, reverse=True)[0]}\")\n",
        "\n",
        "largestElement()\n"
      ],
      "metadata": {
        "id": "rIwY6JuCnjK2",
        "colab": {
          "base_uri": "https://localhost:8080/"
        },
        "outputId": "991c0fe7-98ba-45ed-ed1f-77f724ec01f8"
      },
      "execution_count": 7,
      "outputs": [
        {
          "output_type": "stream",
          "name": "stdout",
          "text": [
            "Enter the Array: 1,2,3,4,5\n",
            "The Largest Element in (1, 2, 3, 4, 5) is 5\n"
          ]
        }
      ]
    },
    {
      "cell_type": "markdown",
      "source": [
        "3. Write a Python Program for array rotation?"
      ],
      "metadata": {
        "id": "4P6NxWT4nbZJ"
      }
    },
    {
      "cell_type": "code",
      "source": [
        "def reverseOfArray():\n",
        "    in_arr = eval(input(\"Enter the Array: \"))\n",
        "    print(f\"The Reverse of Array {in_arr} is {in_arr[::-1]}\")\n",
        "\n",
        "reverseOfArray()"
      ],
      "metadata": {
        "id": "AZi4188Unj24",
        "colab": {
          "base_uri": "https://localhost:8080/"
        },
        "outputId": "4d16a4e5-43f1-4a9e-b041-a1f363b34ce1"
      },
      "execution_count": 8,
      "outputs": [
        {
          "output_type": "stream",
          "name": "stdout",
          "text": [
            "Enter the Array: 11,23,45,67,89\n",
            "The Reverse of Array (11, 23, 45, 67, 89) is (89, 67, 45, 23, 11)\n"
          ]
        }
      ]
    },
    {
      "cell_type": "markdown",
      "source": [
        "4. Write a Python Program to Split the array and add the first part to the end?"
      ],
      "metadata": {
        "id": "mxTGb-PLneSr"
      }
    },
    {
      "cell_type": "code",
      "source": [
        "def sumOfSplits():\n",
        "    in_arr = eval(input(\"Enter the Array: \"))\n",
        "    print(f\"The Sum of First and Last Elements of Array {in_arr} is {in_arr[0]+in_arr[-1]}\")\n",
        "\n",
        "sumOfSplits()\n"
      ],
      "metadata": {
        "id": "oAAFgYclnkX9",
        "colab": {
          "base_uri": "https://localhost:8080/"
        },
        "outputId": "a146f89e-7683-4e48-8b8b-6215455199d0"
      },
      "execution_count": 9,
      "outputs": [
        {
          "output_type": "stream",
          "name": "stdout",
          "text": [
            "Enter the Array: 1,2,3,4,5\n",
            "The Sum of First and Last Elements of Array (1, 2, 3, 4, 5) is 6\n"
          ]
        }
      ]
    },
    {
      "cell_type": "markdown",
      "source": [
        "5. Write a Python Program to check if given array is Monotonic?"
      ],
      "metadata": {
        "id": "8K0SD09RngVj"
      }
    },
    {
      "cell_type": "code",
      "execution_count": 10,
      "metadata": {
        "id": "SzZuIjXBmt8c",
        "colab": {
          "base_uri": "https://localhost:8080/"
        },
        "outputId": "da9aa159-0e06-4dce-fb66-87ad6ff17f8e"
      },
      "outputs": [
        {
          "output_type": "stream",
          "name": "stdout",
          "text": [
            "Enter the Array: 1,2,3,4,5\n",
            "Array (1, 2, 3, 4, 5) is Monotonic\n",
            "Enter the Array: 4,2,4,5,6,1\n",
            "Array (4, 2, 4, 5, 6, 1) is Not Monotonic\n"
          ]
        }
      ],
      "source": [
        "def checkMonotonic():\n",
        "    in_arr = eval(input(\"Enter the Array: \"))\n",
        "    if(all(in_arr[i]<=in_arr[i+1] for i in range(len(in_arr)-1)) or all(in_arr[i]>=in_arr[i+1] for i in range(len(in_arr)-1))):\n",
        "        print(f'Array {in_arr} is Monotonic')\n",
        "    else:\n",
        "        print(f'Array {in_arr} is Not Monotonic')\n",
        "\n",
        "checkMonotonic()\n",
        "checkMonotonic()\n"
      ]
    },
    {
      "cell_type": "code",
      "source": [],
      "metadata": {
        "id": "QI0fCNLrUhmZ"
      },
      "execution_count": null,
      "outputs": []
    }
  ]
}