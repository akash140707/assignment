{
  "nbformat": 4,
  "nbformat_minor": 0,
  "metadata": {
    "colab": {
      "provenance": []
    },
    "kernelspec": {
      "name": "python3",
      "display_name": "Python 3"
    },
    "language_info": {
      "name": "python"
    }
  },
  "cells": [
    {
      "cell_type": "markdown",
      "source": [
        "1. What is the name of the feature responsible for generating Regex objects?"
      ],
      "metadata": {
        "id": "VCLGbECET1_L"
      }
    },
    {
      "cell_type": "markdown",
      "source": [
        "Ans: re.compile() is the feature responsible for generation of Regex objects."
      ],
      "metadata": {
        "id": "mFdXS2rUT_eb"
      }
    },
    {
      "cell_type": "code",
      "execution_count": 1,
      "metadata": {
        "colab": {
          "base_uri": "https://localhost:8080/"
        },
        "id": "Wmw3OqOaSsIU",
        "outputId": "d0d739c3-f0bf-445e-e6c1-ddd1e728dacd"
      },
      "outputs": [
        {
          "output_type": "stream",
          "name": "stdout",
          "text": [
            "re.compile('some_random_pattern')\n"
          ]
        }
      ],
      "source": [
        "import re\n",
        "x = re.compile(\"some_random_pattern\")\n",
        "type(x)\n",
        "print(x)"
      ]
    },
    {
      "cell_type": "markdown",
      "source": [
        "2. Why do raw strings often appear in Regex objects?"
      ],
      "metadata": {
        "id": "AWU60HoHUTXw"
      }
    },
    {
      "cell_type": "markdown",
      "source": [
        "Ans: Regular expressions use the backslash character ('\\\\') to indicate special forms (Metacharacters) or to allow special characters (speical sequences) to be used without invoking their special meaning. This collides with Python’s usage of the same character for the same purpose in string literals. Hence, Raw strings are used (e.g. r\"\\n\") so that backslashes do not have to be escaped."
      ],
      "metadata": {
        "id": "1PFcStjhUwYc"
      }
    },
    {
      "cell_type": "markdown",
      "source": [
        "3. What is the return value of the search() method?"
      ],
      "metadata": {
        "id": "bxqrySV3XVha"
      }
    },
    {
      "cell_type": "markdown",
      "source": [
        "Ans: The return value of re.search(pattern,string) method is a match object if the pattern is observed in the string else it returns a None"
      ],
      "metadata": {
        "id": "zr7X3aEsXrXy"
      }
    },
    {
      "cell_type": "code",
      "source": [
        "import re\n",
        "match = re.search('i','Ineuron Full Stack Data Science Program', flags=re.IGNORECASE)\n",
        "print('Output:',match)\n",
        "match = re.search('X','Ineuron Full Stack Data Science Program', flags=re.IGNORECASE)\n",
        "print('Output:',match)"
      ],
      "metadata": {
        "colab": {
          "base_uri": "https://localhost:8080/"
        },
        "id": "W0-ENI4rUFN4",
        "outputId": "ab147db5-9db3-44a9-8f3b-aae4d027bece"
      },
      "execution_count": 2,
      "outputs": [
        {
          "output_type": "stream",
          "name": "stdout",
          "text": [
            "Output: <re.Match object; span=(0, 1), match='I'>\n",
            "Output: None\n"
          ]
        }
      ]
    },
    {
      "cell_type": "markdown",
      "source": [
        "4. From a Match item, how do you get the actual strings that match the pattern?"
      ],
      "metadata": {
        "id": "MdJn86bbYCTh"
      }
    },
    {
      "cell_type": "markdown",
      "source": [
        "Ans: For Matched items group() methods returns actual strings that match the pattern"
      ],
      "metadata": {
        "id": "4Fj6AJCTYM4i"
      }
    },
    {
      "cell_type": "code",
      "source": [
        "import re\n",
        "match = re.search('ineuron','Ineuron Full Stack Data Science Program', flags=re.IGNORECASE)\n",
        "print('Output:',match.group())"
      ],
      "metadata": {
        "colab": {
          "base_uri": "https://localhost:8080/"
        },
        "id": "-iNua1zNX2B5",
        "outputId": "ef882112-6391-4d4e-ef14-cce9ec5ec273"
      },
      "execution_count": 3,
      "outputs": [
        {
          "output_type": "stream",
          "name": "stdout",
          "text": [
            "Output: Ineuron\n"
          ]
        }
      ]
    },
    {
      "cell_type": "markdown",
      "source": [
        "5. In the regex which created from the r'(\\d\\d\\d)-(\\d\\d\\d-\\d\\d\\d\\d)', what does group zero cover? Group 2? Group 1?"
      ],
      "metadata": {
        "id": "UoDQD0k0YcIH"
      }
    },
    {
      "cell_type": "markdown",
      "source": [
        "Ans: In the Regex r'(\\d\\d\\d)-(\\d\\d\\d-\\d\\d\\d\\d)' the zero group covers the entire pattern match where as the first group cover (\\d\\d\\d) and the second group cover (\\d\\d\\d-\\d\\d\\d\\d)"
      ],
      "metadata": {
        "id": "uQpk-Cz8Ynel"
      }
    },
    {
      "cell_type": "code",
      "source": [
        "# Example Program\n",
        "import re\n",
        "phoneNumRegex = re.compile(r'(\\d\\d\\d)-(\\d\\d\\d-\\d\\d\\d\\d)')\n",
        "mo = phoneNumRegex.search('My number is 415-555-4242.')\n",
        "print(mo.groups()) # Prints all groups in a tuple format\n",
        "print(mo.group()) # Always returns the fully matched string \n",
        "print(mo.group(1)) # Returns the first group\n",
        "print(mo.group(2)) # Returns the second group"
      ],
      "metadata": {
        "colab": {
          "base_uri": "https://localhost:8080/"
        },
        "id": "RumhtJhhZIvm",
        "outputId": "9e7c1a4d-ef19-40b5-af1c-ac7cdcdcf7f8"
      },
      "execution_count": 4,
      "outputs": [
        {
          "output_type": "stream",
          "name": "stdout",
          "text": [
            "('415', '555-4242')\n",
            "415-555-4242\n",
            "415\n",
            "555-4242\n"
          ]
        }
      ]
    },
    {
      "cell_type": "markdown",
      "source": [
        "6. In standard expression syntax, parentheses and intervals have distinct meanings. How can you tell a regex that you want it to fit real parentheses and periods?"
      ],
      "metadata": {
        "id": "2ei1j43FY0yC"
      }
    },
    {
      "cell_type": "markdown",
      "source": [
        "Ans: The \\\\. \\\\( and \n",
        "\n",
        "\\\\) escape characters in the raw string passed to re.compile() will match actual parenthesis characters."
      ],
      "metadata": {
        "id": "K46Sat2dZ9Q5"
      }
    },
    {
      "cell_type": "code",
      "source": [
        "# Example Program\n",
        "import re\n",
        "phoneNumRegex = re.compile(r'(\\(\\d\\d\\d\\)) (\\d\\d\\d-\\d\\d\\d\\d)')\n",
        "mo = phoneNumRegex.search('My phone number is (415) 555-4242.')\n",
        "print(mo.group())"
      ],
      "metadata": {
        "colab": {
          "base_uri": "https://localhost:8080/"
        },
        "id": "ib9D2keGYQAB",
        "outputId": "001e5bc0-c1f9-4d8e-8fd8-892834044085"
      },
      "execution_count": 5,
      "outputs": [
        {
          "output_type": "stream",
          "name": "stdout",
          "text": [
            "(415) 555-4242\n"
          ]
        }
      ]
    },
    {
      "cell_type": "markdown",
      "source": [
        "7. The findall() method returns a string list or a list of string tuples. What causes it to return one of the two options?"
      ],
      "metadata": {
        "id": "S0CN0euQcUoE"
      }
    },
    {
      "cell_type": "markdown",
      "source": [
        "Ans: If the regex pattern has no groups, a list of strings matched is returned. if the regex pattern has groups, a list of tuple of strings is returned."
      ],
      "metadata": {
        "id": "8pIVZ18rcd3o"
      }
    },
    {
      "cell_type": "code",
      "source": [
        "# Example Program\n",
        "import re\n",
        "phoneNumRegex = re.compile(r'(\\(\\d\\d\\d\\)) (\\d\\d\\d-\\d\\d\\d\\d)')\n",
        "mo = phoneNumRegex.findall('My phone number is (415) 555-4242.')\n",
        "print(mo)\n",
        "\n",
        "# Example Program\n",
        "import re\n",
        "phoneNumRegex = re.compile(r'\\d{3}-\\d{3}-\\d{4}')\n",
        "mo = phoneNumRegex.findall('My number is 415-555-4242.')\n",
        "print(mo) # Prints all groups in a tuple format"
      ],
      "metadata": {
        "colab": {
          "base_uri": "https://localhost:8080/"
        },
        "id": "cDuQofccayUK",
        "outputId": "beb6fb4b-50eb-4267-a371-feecd933923f"
      },
      "execution_count": 6,
      "outputs": [
        {
          "output_type": "stream",
          "name": "stdout",
          "text": [
            "[('(415)', '555-4242')]\n",
            "['415-555-4242']\n"
          ]
        }
      ]
    },
    {
      "cell_type": "markdown",
      "source": [
        "\n",
        "8. In standard expressions, what does the | character mean?"
      ],
      "metadata": {
        "id": "4t6Zfos1c8_5"
      }
    },
    {
      "cell_type": "markdown",
      "source": [
        "Ans: In Standard Expressions | means OR operator."
      ],
      "metadata": {
        "id": "6l5fhkx1dAsd"
      }
    },
    {
      "cell_type": "markdown",
      "source": [
        "9. In regular expressions, what does the ? character stand for?"
      ],
      "metadata": {
        "id": "Ud22RBKYdF_t"
      }
    },
    {
      "cell_type": "markdown",
      "source": [
        "Ans: In regular Expressions, ? characters represents zero or one match of the preceeding group."
      ],
      "metadata": {
        "id": "kFq8mK0DdOAu"
      }
    },
    {
      "cell_type": "code",
      "source": [
        "# Example Program\n",
        "import re\n",
        "match_1 = re.search(\"Bat(wo)?man\",\"Batman returns\")\n",
        "print(match_1)\n",
        "match_2 = re.search(\"Bat(wo)?man\",\"Batwoman returns\")\n",
        "print(match_2)"
      ],
      "metadata": {
        "colab": {
          "base_uri": "https://localhost:8080/"
        },
        "id": "sw99pIDcdMb8",
        "outputId": "fb4b46ec-faae-45d7-f80e-4fc41f57ee17"
      },
      "execution_count": 8,
      "outputs": [
        {
          "output_type": "stream",
          "name": "stdout",
          "text": [
            "<re.Match object; span=(0, 6), match='Batman'>\n",
            "<re.Match object; span=(0, 8), match='Batwoman'>\n"
          ]
        }
      ]
    },
    {
      "cell_type": "markdown",
      "source": [
        "10.In regular expressions, what is the difference between the + and * characters?"
      ],
      "metadata": {
        "id": "hTCsAV4WdqAY"
      }
    },
    {
      "cell_type": "markdown",
      "source": [
        "10.In regular expressions, what is the difference between the + and * characters?"
      ],
      "metadata": {
        "id": "2vsge9ETd0ah"
      }
    },
    {
      "cell_type": "markdown",
      "source": [
        "Ans: In Regular Expressions, * Represents Zero ore more occurances of the preceeding group, whereas + represents one or more occurances of the preceeding group."
      ],
      "metadata": {
        "id": "G7zYOeurd38t"
      }
    },
    {
      "cell_type": "code",
      "source": [
        "import re\n",
        "match_1 = re.search(\"Bat(wo)*man\",\"Batman returns\")\n",
        "print(match_1)\n",
        "match_2 = re.search(\"Bat(wo)+man\",\"Batman returns\")\n",
        "print(match_2)"
      ],
      "metadata": {
        "colab": {
          "base_uri": "https://localhost:8080/"
        },
        "id": "-x0vY4cmdWrK",
        "outputId": "7c865d2c-70d1-4eb7-ef81-492e41846d19"
      },
      "execution_count": 9,
      "outputs": [
        {
          "output_type": "stream",
          "name": "stdout",
          "text": [
            "<re.Match object; span=(0, 6), match='Batman'>\n",
            "None\n"
          ]
        }
      ]
    },
    {
      "cell_type": "markdown",
      "source": [
        "11. What is the difference between {4} and {4,5} in regular expression?"
      ],
      "metadata": {
        "id": "p1znOKKaeHRn"
      }
    },
    {
      "cell_type": "markdown",
      "source": [
        "Ans: {4} means that its preceeding group should repeat 4 times. where as {4,5} means that its preceeding group should repeat mininum 4 times and maximum 5 times inclusively"
      ],
      "metadata": {
        "id": "It_EYn_0eSDq"
      }
    },
    {
      "cell_type": "code",
      "source": [
        "import re\n",
        "haRegex = re.compile(r'(Ha){3}')\n",
        "mo1 = haRegex.search('HaHaHa')\n",
        "mo2 = haRegex.search('Ha')\n",
        "print(mo1.group())\n",
        "print(mo2)"
      ],
      "metadata": {
        "colab": {
          "base_uri": "https://localhost:8080/"
        },
        "id": "noZmHzKVd7i4",
        "outputId": "f9a5e041-550b-4993-ffc4-ec1599402f3d"
      },
      "execution_count": 10,
      "outputs": [
        {
          "output_type": "stream",
          "name": "stdout",
          "text": [
            "HaHaHa\n",
            "None\n"
          ]
        }
      ]
    },
    {
      "cell_type": "markdown",
      "source": [
        "12. What do you mean by the \\d, \\w, and \\s shorthand character classes signify in regular expressions?"
      ],
      "metadata": {
        "id": "Y9Cwc8Mheria"
      }
    },
    {
      "cell_type": "markdown",
      "source": [
        "Ans: \\d, \\w and \\s are special sequences in regular expresssions in python:\n",
        "\n",
        "1. \\w – Matches a word character equivalent to [a-zA-Z0-9_]\n",
        "\n",
        "2. \\d – Matches digit character equivalent to [0-9]\n",
        "\n",
        "3. \\s – Matches whitespace character (space, tab, newline, etc.)"
      ],
      "metadata": {
        "id": "4x2GafsCexG6"
      }
    },
    {
      "cell_type": "markdown",
      "source": [
        "13. What do means by \\D, \\W, and \\S shorthand character classes signify in regular expressions?"
      ],
      "metadata": {
        "id": "BORZ-AZvfLLY"
      }
    },
    {
      "cell_type": "markdown",
      "source": [
        "Ans: \\D, \\W and \\S are special sequences in regular expresssions in python:\n",
        "\n",
        "1. \\W – Matches any non-alphanumeric character equivalent to [^a-zA-Z0-9_]\n",
        "\n",
        "2. \\D – Matches any non-digit character, this is equivalent to the set class [^0-9]\n",
        "\n",
        "3. \\S – Matches any non-whitespace character"
      ],
      "metadata": {
        "id": "N98jRxWDfRIf"
      }
    },
    {
      "cell_type": "markdown",
      "source": [
        "14. What is the difference between .? and .*?"
      ],
      "metadata": {
        "id": "zT5mJ11ofwGj"
      }
    },
    {
      "cell_type": "markdown",
      "source": [
        "Ans: .* is a Greedy mode, which returns the longest string that meets the condition. Whereas .*? is a non greedy mode which returns the shortest string that meets the condition."
      ],
      "metadata": {
        "id": "hyOW7ZZ3gbQf"
      }
    },
    {
      "cell_type": "markdown",
      "source": [
        "15. What is the syntax for matching both numbers and lowercase letters with a character class?"
      ],
      "metadata": {
        "id": "TZwFdHzxglSX"
      }
    },
    {
      "cell_type": "markdown",
      "source": [
        "Ans: The Synatax is Either [a-z0-9] or [0-9a-z]"
      ],
      "metadata": {
        "id": "F8ySnoSygrEJ"
      }
    },
    {
      "cell_type": "markdown",
      "source": [
        "16. What is the procedure for making a normal expression in regax case insensitive?"
      ],
      "metadata": {
        "id": "_Sq_OP65hLeA"
      }
    },
    {
      "cell_type": "markdown",
      "source": [
        "Ans: We can pass re.IGNORECASE as a flag to make a noraml expression case insensitive"
      ],
      "metadata": {
        "id": "p7eNvamrhOkz"
      }
    },
    {
      "cell_type": "markdown",
      "source": [
        "17. What does the . character normally match? What does it match if re.DOTALL is passed as 2nd argument in re.compile()?"
      ],
      "metadata": {
        "id": "i7lmwvEZhUGQ"
      }
    },
    {
      "cell_type": "markdown",
      "source": [
        "Ans: Dot . character matches everything in input except newline character .. By passing re.DOTALL as a flag to re.compile(), you can make the dot character match all characters, including the newline character."
      ],
      "metadata": {
        "id": "68s7bK_chk6-"
      }
    },
    {
      "cell_type": "markdown",
      "source": [
        "18. If numReg = re.compile(r'\\d+'), what will numRegex.sub('X', '11 drummers, 10 pipers, five rings, 4 hen') return?"
      ],
      "metadata": {
        "id": "XvM_lL-ehva1"
      }
    },
    {
      "cell_type": "markdown",
      "source": [
        "Ans: The Ouput will be 'X drummers, X pipers, five rings, X hen'"
      ],
      "metadata": {
        "id": "8BBDWRxviLse"
      }
    },
    {
      "cell_type": "code",
      "source": [
        "import re\n",
        "numReg = re.compile(r'\\d+')\n",
        "numReg.sub('X', '11 drummers, 10 pipers, five rings, 4 hen')"
      ],
      "metadata": {
        "colab": {
          "base_uri": "https://localhost:8080/",
          "height": 36
        },
        "id": "H_97BNryeUyU",
        "outputId": "fb9dcf96-1e79-4c7a-ce11-26fbdadfe6d8"
      },
      "execution_count": 11,
      "outputs": [
        {
          "output_type": "execute_result",
          "data": {
            "text/plain": [
              "'X drummers, X pipers, five rings, X hen'"
            ],
            "application/vnd.google.colaboratory.intrinsic+json": {
              "type": "string"
            }
          },
          "metadata": {},
          "execution_count": 11
        }
      ]
    },
    {
      "cell_type": "markdown",
      "source": [
        "19. What does passing re.VERBOSE as the 2nd argument to re.compile() allow to do?"
      ],
      "metadata": {
        "id": "zZdthAXKiWwa"
      }
    },
    {
      "cell_type": "markdown",
      "source": [
        "Ans: re.VERBOSE will allow to add whitespace and comments to string passed to re.compile()."
      ],
      "metadata": {
        "id": "tiCSrfRXijXv"
      }
    },
    {
      "cell_type": "code",
      "source": [
        "# Without Using VERBOSE\n",
        "regex_email = re.compile(r'^([a-z0-9_\\.-]+)@([0-9a-z\\.-]+)\\.([a-z\\.]{2, 6})$', re.IGNORECASE)\n",
        " \n",
        "# Using VERBOSE\n",
        "regex_email = re.compile(r\"\"\"\n",
        "                            ^([a-z0-9_\\.-]+)              # local Part like username\n",
        "                            @                             # single @ sign \n",
        "                            ([0-9a-z\\.-]+)                # Domain name like google\n",
        "                            \\.                            # single Dot .\n",
        "                            ([a-z]{2,6})$                 # Top level Domain  like com/in/org\n",
        "                         \"\"\",re.VERBOSE | re.IGNORECASE)   "
      ],
      "metadata": {
        "id": "r50Oji3ZiPDL"
      },
      "execution_count": 13,
      "outputs": []
    },
    {
      "cell_type": "code",
      "source": [],
      "metadata": {
        "id": "3vLjJKRdio3J"
      },
      "execution_count": null,
      "outputs": []
    },
    {
      "cell_type": "markdown",
      "source": [
        "20. How would you write a regex that match a number with comma for every three digits? It must match the given following:\n",
        "\n",
        "'42'\n",
        "\n",
        "'1,234'\n",
        "\n",
        "'6,368,745'\n",
        "\n",
        "but not the following:\n",
        "\n",
        "'12,34,567' (which has only two digits\n",
        " between the commas)\n",
        " \n",
        "'1234' (which lacks commas)\n"
      ],
      "metadata": {
        "id": "LWKXLALVjDx7"
      }
    },
    {
      "cell_type": "code",
      "source": [
        "import re\n",
        "pattern = r'^\\d{1,3}(,\\d{3})*$'\n",
        "pagex = re.compile(pattern)\n",
        "for ele in ['42','1,234', '6,368,745','12,34,567','1234']:\n",
        "    print('Output:',ele, '->', pagex.search(ele))"
      ],
      "metadata": {
        "colab": {
          "base_uri": "https://localhost:8080/"
        },
        "id": "kMqoF-CUjEXA",
        "outputId": "6f249dd8-49f0-4a94-f1a3-8f542b9198eb"
      },
      "execution_count": 14,
      "outputs": [
        {
          "output_type": "stream",
          "name": "stdout",
          "text": [
            "Output: 42 -> <re.Match object; span=(0, 2), match='42'>\n",
            "Output: 1,234 -> <re.Match object; span=(0, 5), match='1,234'>\n",
            "Output: 6,368,745 -> <re.Match object; span=(0, 9), match='6,368,745'>\n",
            "Output: 12,34,567 -> None\n",
            "Output: 1234 -> None\n"
          ]
        }
      ]
    },
    {
      "cell_type": "markdown",
      "source": [
        "21. How would you write a regex that matches the full name of someone whose last name is Watanabe? You can assume that the first name that comes before it will always be one word that begins with a capital letter. The regex must match the following:\n",
        "\n",
        "'Haruto Watanabe'\n",
        "\n",
        "'Alice Watanabe'\n",
        "\n",
        "'RoboCop Watanabe'\n",
        "\n",
        "but not the following:\n",
        "\n",
        "'haruto Watanabe' (where the first name is not capitalized)\n",
        "\n",
        "'Mr. Watanabe' (where the preceding word has a nonletter character)\n",
        "\n",
        "'Watanabe' (which has no first name)\n",
        "\n",
        "'Haruto watanabe' (where Watanabe is not capitalized)\n"
      ],
      "metadata": {
        "id": "uezNKS_FkTfo"
      }
    },
    {
      "cell_type": "markdown",
      "source": [
        "Ans: pattern = r'[A-Z]{1}[a-z]*\\sWatanabe'"
      ],
      "metadata": {
        "id": "35fiiGVCkjgp"
      }
    },
    {
      "cell_type": "code",
      "source": [
        "import re\n",
        "pattern = r'[A-Z]{1}[a-z]*\\sWatanabe'\n",
        "namex = re.compile(pattern)\n",
        "for name in ['Haruto Watanabe','Alice Watanabe','RoboCop Watanabe','haruto Watanabe','Mr. Watanabe','Watanabe','Haruto watanabe']:\n",
        "    print('Output: ',name,'->',namex.search(name))"
      ],
      "metadata": {
        "colab": {
          "base_uri": "https://localhost:8080/"
        },
        "id": "NieHdfnSkAx4",
        "outputId": "727b60d3-8f76-48a3-854c-55d902d2d18a"
      },
      "execution_count": 15,
      "outputs": [
        {
          "output_type": "stream",
          "name": "stdout",
          "text": [
            "Output:  Haruto Watanabe -> <re.Match object; span=(0, 15), match='Haruto Watanabe'>\n",
            "Output:  Alice Watanabe -> <re.Match object; span=(0, 14), match='Alice Watanabe'>\n",
            "Output:  RoboCop Watanabe -> <re.Match object; span=(4, 16), match='Cop Watanabe'>\n",
            "Output:  haruto Watanabe -> None\n",
            "Output:  Mr. Watanabe -> None\n",
            "Output:  Watanabe -> None\n",
            "Output:  Haruto watanabe -> None\n"
          ]
        }
      ]
    },
    {
      "cell_type": "markdown",
      "source": [
        "22. How would you write a regex that matches a sentence where the first word is either Alice, Bob, or Carol; the second word is either eats, pets, or throws; the third word is apples, cats, or baseballs; and the sentence ends with a period? This regex should be case-insensitive. It must match the following:\n",
        "\n",
        "'Alice eats apples.'\n",
        "\n",
        "'Bob pets cats.'\n",
        "\n",
        "'Carol throws baseballs.'\n",
        "\n",
        "'Alice throws Apples.'\n",
        "\n",
        "'BOB EATS CATS.'\n",
        "\n",
        "but not the following:\n",
        "\n",
        "'RoboCop eats apples.'\n",
        "\n",
        "'ALICE THROWS FOOTBALLS.'\n",
        "\n",
        "'Carol eats 7 cats.'\n",
        "\n"
      ],
      "metadata": {
        "id": "p_QaUFkmktf8"
      }
    },
    {
      "cell_type": "markdown",
      "source": [
        "Ans: pattern = r'(Alice|Bob|Carol)\\s(eats|pets|throws)\\s(apples|cats|baseballs)\\\\.'\n",
        "\n"
      ],
      "metadata": {
        "id": "y7C0Gcuak53S"
      }
    },
    {
      "cell_type": "code",
      "source": [
        "import re\n",
        "pattern = r'(Alice|Bob|Carol)\\s(eats|pets|throws)\\s(apples|cats|baseballs)\\.'\n",
        "casex = re.compile(pattern,re.IGNORECASE)\n",
        "for ele in ['Alice eats apples.','Bob pets cats.','Carol throws baseballs.','Alice throws Apples.','BOB EATS CATS.','RoboCop eats apples.'\n",
        ",'ALICE THROWS FOOTBALLS.','Carol eats 7 cats.']:\n",
        "    print('Output: ',ele,'->',casex.search(ele))"
      ],
      "metadata": {
        "colab": {
          "base_uri": "https://localhost:8080/"
        },
        "id": "foEtDeedkm4E",
        "outputId": "4382ee48-4c41-4ff8-e4f1-45997e9eda85"
      },
      "execution_count": 16,
      "outputs": [
        {
          "output_type": "stream",
          "name": "stdout",
          "text": [
            "Output:  Alice eats apples. -> <re.Match object; span=(0, 18), match='Alice eats apples.'>\n",
            "Output:  Bob pets cats. -> <re.Match object; span=(0, 14), match='Bob pets cats.'>\n",
            "Output:  Carol throws baseballs. -> <re.Match object; span=(0, 23), match='Carol throws baseballs.'>\n",
            "Output:  Alice throws Apples. -> <re.Match object; span=(0, 20), match='Alice throws Apples.'>\n",
            "Output:  BOB EATS CATS. -> <re.Match object; span=(0, 14), match='BOB EATS CATS.'>\n",
            "Output:  RoboCop eats apples. -> None\n",
            "Output:  ALICE THROWS FOOTBALLS. -> None\n",
            "Output:  Carol eats 7 cats. -> None\n"
          ]
        }
      ]
    },
    {
      "cell_type": "code",
      "source": [],
      "metadata": {
        "id": "hZRYWkhdlLk_"
      },
      "execution_count": null,
      "outputs": []
    }
  ]
}