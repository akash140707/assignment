{
  "nbformat": 4,
  "nbformat_minor": 0,
  "metadata": {
    "colab": {
      "provenance": []
    },
    "kernelspec": {
      "name": "python3",
      "display_name": "Python 3"
    },
    "language_info": {
      "name": "python"
    }
  },
  "cells": [
    {
      "cell_type": "markdown",
      "source": [
        "1. What are escape characters, and how do you use them?"
      ],
      "metadata": {
        "id": "8iAr7O8rD2CD"
      }
    },
    {
      "cell_type": "markdown",
      "source": [
        "Ans: Escape characters represent characters in string values that would otherwise be difficult or impossible to type into code. we can use the backslash character to escape a single character or symbol\n",
        "\n",
        "example: \\t, \\n"
      ],
      "metadata": {
        "id": "V50xd6GMGZb2"
      }
    },
    {
      "cell_type": "markdown",
      "source": [
        "2. What do the escape characters n and t stand for?"
      ],
      "metadata": {
        "id": "6iAd9G51Gk-s"
      }
    },
    {
      "cell_type": "markdown",
      "source": [
        "Ans: \\n is a newline, \\t is a tab"
      ],
      "metadata": {
        "id": "7J4AIWW2GqD3"
      }
    },
    {
      "cell_type": "markdown",
      "source": [
        "3. What is the way to include backslash characters in a string?"
      ],
      "metadata": {
        "id": "BfLdzm6nGwNZ"
      }
    },
    {
      "cell_type": "markdown",
      "source": [
        "Ans: The \\\\\\ escape character will represent the backslash character in a string"
      ],
      "metadata": {
        "id": "82kaI2c5Gzxy"
      }
    },
    {
      "cell_type": "markdown",
      "source": [
        "4. The string \"Howl's Moving Castle\" is a correct value. Why isn't the single quote character in the word Howl's not escaped a problem?"
      ],
      "metadata": {
        "id": "fOeEzR8gG3KG"
      }
    },
    {
      "cell_type": "markdown",
      "source": [
        "Ans: The string \"Howl's Moving Castle\" escaped the problem because it is wrapped inside double quotes. if its wrapped inside single quotes then we have to use escape character \\\\' to show single quote in the final output\n",
        "\n",
        "'Howl\\\\'s Moving Castle' -> 'Howl 's\n",
        "  Moving Castle'"
      ],
      "metadata": {
        "id": "lvqQj44lH-Iy"
      }
    },
    {
      "cell_type": "markdown",
      "source": [
        "5. How do you write a string of newlines if you don't want to use the n character?"
      ],
      "metadata": {
        "id": "dIWFtRm1I5u5"
      }
    },
    {
      "cell_type": "markdown",
      "source": [
        "Ans: Multiline string allow you to use newlines in string without the \\n escape character"
      ],
      "metadata": {
        "id": "KIoEEcmYJEqD"
      }
    },
    {
      "cell_type": "code",
      "source": [
        "a = '''iNeuron full stack\n",
        "Data Science Course'''\n",
        "print(a)"
      ],
      "metadata": {
        "colab": {
          "base_uri": "https://localhost:8080/"
        },
        "id": "y1-YDOyuHmD8",
        "outputId": "559abd62-79d2-46bd-819a-7a13ababd864"
      },
      "execution_count": 13,
      "outputs": [
        {
          "output_type": "stream",
          "name": "stdout",
          "text": [
            "iNeuron full stack\n",
            "Data Science Course\n"
          ]
        }
      ]
    },
    {
      "cell_type": "markdown",
      "source": [
        "6.What are the values of the given expressions ?\n",
        "\n",
        "'Hello, world!'[1]\n",
        "\n",
        "'Hello, world!'[0:5]\n",
        "\n",
        "'Hello, world!'[:5]\n",
        "\n",
        "'Hello, world!'[3:]"
      ],
      "metadata": {
        "id": "sWBAe7SdJRBH"
      }
    },
    {
      "cell_type": "markdown",
      "source": [
        "Ans: The values for the given expressions are:\n",
        "\n",
        "'Hello, world!'[1] -> 'e'\n",
        "\n",
        "'Hello, world!'[0:5] -> 'Hello'\n",
        "\n",
        "'Hello, world!'[:5] -> 'Hello'\n",
        "\n",
        "'Hello, world!'[3:] -> 'lo, world!'"
      ],
      "metadata": {
        "id": "qZ6w_wmCJcic"
      }
    },
    {
      "cell_type": "markdown",
      "source": [
        "7. What are the values of the following expressions?\n",
        "\n",
        "'Hello'.upper()\n",
        "\n",
        "'Hello'.upper().isupper()\n",
        "\n",
        "'Hello'.upper().lower()\n"
      ],
      "metadata": {
        "id": "02yHy3DaJuOt"
      }
    },
    {
      "cell_type": "markdown",
      "source": [
        "Ans: The values for the given expressions are:\n",
        "\n",
        "'Hello'.upper() -> 'HELLO'\n",
        "\n",
        "'Hello'.upper().isupper() -> True\n",
        "\n",
        "'Hello'.upper().lower() -> 'hello'"
      ],
      "metadata": {
        "id": "E5RK-aakJz5K"
      }
    },
    {
      "cell_type": "markdown",
      "source": [
        "8. What are the values of the following expressions?\n",
        "\n",
        "'Remember, remember, the fifth of July.'.split()\n",
        "\n",
        "'-'.join('There can only one.'.split())\n"
      ],
      "metadata": {
        "id": "pkxGc_1CJ-EJ"
      }
    },
    {
      "cell_type": "markdown",
      "source": [
        "Ans: The values for the given expressions are:\n",
        "\n",
        "'Remember, remember, the fifith of July.'.split() -> ['Remember,', 'remember,', 'the', 'fifith', 'of', 'July.']\n",
        "\n",
        "'-'.join('There can only one'.split()) -> 'There-can-only-one'"
      ],
      "metadata": {
        "id": "jo5iIyTxKC7G"
      }
    },
    {
      "cell_type": "markdown",
      "source": [
        "9. What are the methods for right-justifying, left-justifying, and centering a string?"
      ],
      "metadata": {
        "id": "sVmnP8djKY6r"
      }
    },
    {
      "cell_type": "markdown",
      "source": [
        "Ans: The rjust(),ljust(),center() string methods, respectively"
      ],
      "metadata": {
        "id": "xna-H6ksKgZX"
      }
    },
    {
      "cell_type": "markdown",
      "source": [
        "10. What is the best way to remove whitespace characters from the start or end?"
      ],
      "metadata": {
        "id": "8ntNHA5zKm5X"
      }
    },
    {
      "cell_type": "markdown",
      "source": [
        "Ans: The lstrip() and rstrip() methods remove whitesapce characters from the left and right ends of a string respectively"
      ],
      "metadata": {
        "id": "AgZ0zSPZKuF_"
      }
    },
    {
      "cell_type": "code",
      "source": [],
      "metadata": {
        "id": "lIvTXOqmJLXK"
      },
      "execution_count": null,
      "outputs": []
    }
  ]
}