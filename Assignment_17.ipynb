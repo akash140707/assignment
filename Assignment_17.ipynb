{
  "nbformat": 4,
  "nbformat_minor": 0,
  "metadata": {
    "colab": {
      "provenance": []
    },
    "kernelspec": {
      "name": "python3",
      "display_name": "Python 3"
    },
    "language_info": {
      "name": "python"
    }
  },
  "cells": [
    {
      "cell_type": "markdown",
      "source": [
        "1. Assign the value 7 to the variable guess_me. Then, write the conditional tests (if, else, and elif) to print the string 'too low' if guess_me is less than 7, 'too high' if greater than 7, and 'just right' if equal to 7."
      ],
      "metadata": {
        "id": "WGICv2r9EbfI"
      }
    },
    {
      "cell_type": "code",
      "execution_count": 1,
      "metadata": {
        "colab": {
          "base_uri": "https://localhost:8080/"
        },
        "id": "2sz2ia_4ESJe",
        "outputId": "af16f067-751e-4e27-a577-06bff0ab59da"
      },
      "outputs": [
        {
          "output_type": "stream",
          "name": "stdout",
          "text": [
            "just Right\n",
            "too Low\n",
            "too High\n"
          ]
        }
      ],
      "source": [
        "def guess_me(guess_me):\n",
        "    if guess_me < 7:\n",
        "        print('too Low')\n",
        "    elif guess_me > 7:\n",
        "        print('too High')\n",
        "    else:\n",
        "        print('just Right')\n",
        "\n",
        "guess_me(guess_me=7)\n",
        "guess_me(guess_me=5)\n",
        "guess_me(guess_me=15)"
      ]
    },
    {
      "cell_type": "markdown",
      "source": [
        "2. Assign the value 7 to the variable guess_me and the value 1 to the variable start. Write a while loop that compares start with guess_me. Print too low if start is less than guess me. If start equals guess_me, print 'found it!' and exit the loop. If start is greater than guess_me, print 'oops' and exit the loop. Increment start at the end of the loop"
      ],
      "metadata": {
        "id": "8mZiSGWhExDf"
      }
    },
    {
      "cell_type": "code",
      "source": [
        "guess_me = 7\n",
        "start = 1\n",
        "while True:\n",
        "    if start < guess_me:\n",
        "        print('too low')\n",
        "    elif start == guess_me:\n",
        "        print('found it')\n",
        "        break\n",
        "    else:\n",
        "        print('oops')\n",
        "        break\n",
        "    start += 1"
      ],
      "metadata": {
        "colab": {
          "base_uri": "https://localhost:8080/"
        },
        "id": "_xEHNuzaEu_E",
        "outputId": "33b11b49-2651-4d18-cd8b-70bbbe89131a"
      },
      "execution_count": 2,
      "outputs": [
        {
          "output_type": "stream",
          "name": "stdout",
          "text": [
            "too low\n",
            "too low\n",
            "too low\n",
            "too low\n",
            "too low\n",
            "too low\n",
            "found it\n"
          ]
        }
      ]
    },
    {
      "cell_type": "markdown",
      "source": [
        "3. Print the following values of the list [3, 2, 1, 0] using a for loop."
      ],
      "metadata": {
        "id": "XQPPjn0tFIx4"
      }
    },
    {
      "cell_type": "code",
      "source": [
        "in_list = [3,2,1,0]\n",
        "for ele in in_list:\n",
        "    print(ele)"
      ],
      "metadata": {
        "colab": {
          "base_uri": "https://localhost:8080/"
        },
        "id": "Q2aRL0rYE_h_",
        "outputId": "ba3e966e-dfdd-433f-fa87-1493bcf05abe"
      },
      "execution_count": 3,
      "outputs": [
        {
          "output_type": "stream",
          "name": "stdout",
          "text": [
            "3\n",
            "2\n",
            "1\n",
            "0\n"
          ]
        }
      ]
    },
    {
      "cell_type": "markdown",
      "source": [
        "4. Use a list comprehension to make a list of the even numbers in range(10)"
      ],
      "metadata": {
        "id": "V446rnHBFQ4e"
      }
    },
    {
      "cell_type": "code",
      "source": [
        "\n",
        "print([x for x in range(10+1) if x%2==0 ])"
      ],
      "metadata": {
        "colab": {
          "base_uri": "https://localhost:8080/"
        },
        "id": "jNMQ6fyxFN4E",
        "outputId": "7fb27044-cf4e-4117-df45-bd30ade1abc1"
      },
      "execution_count": 4,
      "outputs": [
        {
          "output_type": "stream",
          "name": "stdout",
          "text": [
            "[0, 2, 4, 6, 8, 10]\n"
          ]
        }
      ]
    },
    {
      "cell_type": "markdown",
      "source": [
        "5. Use a dictionary comprehension to create the dictionary squares. Use range(10) to return the keys, and use the square of each key as its value."
      ],
      "metadata": {
        "id": "CLNSzcjpFXXW"
      }
    },
    {
      "cell_type": "code",
      "source": [
        "# Method 1\n",
        "print(dict([(x,pow(x,2)) for x in range(10)]))\n",
        "# Method 2\n",
        "print({x:x**2 for x in range(10)})"
      ],
      "metadata": {
        "colab": {
          "base_uri": "https://localhost:8080/"
        },
        "id": "f9wEsASNFV4V",
        "outputId": "f4083208-7811-4679-a713-b8170ca53e45"
      },
      "execution_count": 5,
      "outputs": [
        {
          "output_type": "stream",
          "name": "stdout",
          "text": [
            "{0: 0, 1: 1, 2: 4, 3: 9, 4: 16, 5: 25, 6: 36, 7: 49, 8: 64, 9: 81}\n",
            "{0: 0, 1: 1, 2: 4, 3: 9, 4: 16, 5: 25, 6: 36, 7: 49, 8: 64, 9: 81}\n"
          ]
        }
      ]
    },
    {
      "cell_type": "markdown",
      "source": [
        "6. Construct the set odd from the odd numbers in the range using a set comprehension (10)."
      ],
      "metadata": {
        "id": "SSrptkdjFuqe"
      }
    },
    {
      "cell_type": "code",
      "source": [
        "print({x for x in range(10) if x%2 !=0})"
      ],
      "metadata": {
        "colab": {
          "base_uri": "https://localhost:8080/"
        },
        "id": "b6qvatcHFbbH",
        "outputId": "1a40f51c-a122-4ad5-8c3c-f6d9f8fde4aa"
      },
      "execution_count": 6,
      "outputs": [
        {
          "output_type": "stream",
          "name": "stdout",
          "text": [
            "{1, 3, 5, 7, 9}\n"
          ]
        }
      ]
    },
    {
      "cell_type": "markdown",
      "source": [
        "7. Use a generator comprehension to return the string 'Got ' and a number for the numbers in range(10). Iterate through this by using a for loop"
      ],
      "metadata": {
        "id": "BD7yAMQvF1WC"
      }
    },
    {
      "cell_type": "code",
      "source": [
        "gen_com = ('Got_'+str(x) for x in range(10))\n",
        "for ele in gen_com:\n",
        "    print(ele, end=' ')"
      ],
      "metadata": {
        "colab": {
          "base_uri": "https://localhost:8080/"
        },
        "id": "N5SRn90oFxrb",
        "outputId": "5878b1aa-8af6-4bcf-c111-9edad7ebefcb"
      },
      "execution_count": 7,
      "outputs": [
        {
          "output_type": "stream",
          "name": "stdout",
          "text": [
            "Got_0 Got_1 Got_2 Got_3 Got_4 Got_5 Got_6 Got_7 Got_8 Got_9 "
          ]
        }
      ]
    },
    {
      "cell_type": "markdown",
      "source": [
        "8. Define a function called good that returns the list ['Harry', 'Ron', 'Hermione']."
      ],
      "metadata": {
        "id": "9g_qgazZGEAK"
      }
    },
    {
      "cell_type": "code",
      "source": [
        "def good():\n",
        "    x =  ['Harry', 'Ron', 'Hermione']\n",
        "    return x\n",
        "print(good())"
      ],
      "metadata": {
        "colab": {
          "base_uri": "https://localhost:8080/"
        },
        "id": "-uljWCXTF_nX",
        "outputId": "9536324c-87ec-432c-dafd-3e881b7c6634"
      },
      "execution_count": 9,
      "outputs": [
        {
          "output_type": "stream",
          "name": "stdout",
          "text": [
            "['Harry', 'Ron', 'Hermione']\n"
          ]
        }
      ]
    },
    {
      "cell_type": "markdown",
      "source": [
        "9. Define a generator function called get_odds that returns the odd numbers from range(10). Use a for loop to find and print the third value returned."
      ],
      "metadata": {
        "id": "h4-Jbk8EGJqO"
      }
    },
    {
      "cell_type": "code",
      "source": [
        "def get_odds():\n",
        "    output = []\n",
        "    for ele in range(10):\n",
        "        if ele%2 != 0:\n",
        "            output.append(ele)\n",
        "    yield output\n",
        "\n",
        "next(get_odds())[2]"
      ],
      "metadata": {
        "colab": {
          "base_uri": "https://localhost:8080/"
        },
        "id": "JQcE339rGGIC",
        "outputId": "417c81b5-5cea-4a03-d088-d6821858389b"
      },
      "execution_count": 10,
      "outputs": [
        {
          "output_type": "execute_result",
          "data": {
            "text/plain": [
              "5"
            ]
          },
          "metadata": {},
          "execution_count": 10
        }
      ]
    },
    {
      "cell_type": "markdown",
      "source": [
        "10. Define an exception called OopsException. Raise this exception to see what happens. Then write the code to catch this exception and print 'Caught an oops'."
      ],
      "metadata": {
        "id": "ZQ92MIk-GXjh"
      }
    },
    {
      "cell_type": "code",
      "source": [
        "class OopsException(Exception):\n",
        "    pass\n",
        "\n",
        "def test(input):\n",
        "    if input <0:\n",
        "        raise OopsException(a)\n",
        "try:\n",
        "    test(-100)\n",
        "except Exception as e:\n",
        "    print('Caught in Oops ->',e)"
      ],
      "metadata": {
        "colab": {
          "base_uri": "https://localhost:8080/"
        },
        "id": "Tqigp6JrGLjY",
        "outputId": "432421ae-c487-40e9-bbd8-b9234aa1a02f"
      },
      "execution_count": 11,
      "outputs": [
        {
          "output_type": "stream",
          "name": "stdout",
          "text": [
            "Caught in Oops -> name 'a' is not defined\n"
          ]
        }
      ]
    },
    {
      "cell_type": "markdown",
      "source": [
        "11. Use zip() to make a dictionary called movies that pairs these lists: titles = ['Creature of Habit', 'Crewel Fate'] and plots = ['A nun turns into a monster', 'A haunted yarn shop']."
      ],
      "metadata": {
        "id": "V2JEEyavGc4l"
      }
    },
    {
      "cell_type": "code",
      "source": [
        "titles = ['Creature of Habit', 'Crewel Fate']\n",
        "plots = ['A nun turns into a monster', 'A haunted yarn shop']\n",
        "output = dict(zip(titles,plots))\n",
        "print(output)"
      ],
      "metadata": {
        "colab": {
          "base_uri": "https://localhost:8080/"
        },
        "id": "cDSYgOdaGaJU",
        "outputId": "c64574c9-48f5-49e9-f2af-346814c3f928"
      },
      "execution_count": 12,
      "outputs": [
        {
          "output_type": "stream",
          "name": "stdout",
          "text": [
            "{'Creature of Habit': 'A nun turns into a monster', 'Crewel Fate': 'A haunted yarn shop'}\n"
          ]
        }
      ]
    },
    {
      "cell_type": "code",
      "source": [],
      "metadata": {
        "id": "CwSlLuZYGhNE"
      },
      "execution_count": null,
      "outputs": []
    }
  ]
}