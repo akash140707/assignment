{
 "cells": [
  {
   "cell_type": "markdown",
   "id": "58e3be56-f4a5-4b8b-ac36-082a9c3a1392",
   "metadata": {},
   "source": [
    "Que 1- What are the two values of the Boolean data type? How do you write them?"
   ]
  },
  {
   "cell_type": "markdown",
   "id": "137a1279-8220-46dd-9be2-bad5b85a1eeb",
   "metadata": {},
   "source": [
    "Ans- Two values of the Boolean data type is:  True and False"
   ]
  },
  {
   "cell_type": "markdown",
   "id": "e6f80ce8-6d73-4c30-bafa-52bbf8e39b57",
   "metadata": {},
   "source": [
    "Que 2- What are the three different types of Boolean operators?"
   ]
  },
  {
   "cell_type": "markdown",
   "id": "4d755d8b-44a9-4652-a235-928e88f94454",
   "metadata": {},
   "source": [
    "Ans- The three basic boolean operators are: AND, OR, and NOT."
   ]
  },
  {
   "cell_type": "markdown",
   "id": "604fd272-2b2b-40d0-962b-e39b5b64130f",
   "metadata": {},
   "source": [
    "Que 3- Make a list of each Boolean operator's truth tables (i.e. every possible combination of Boolean values for the operator and what it evaluate )."
   ]
  },
  {
   "cell_type": "raw",
   "id": "ecf0550f-6b6a-4a9c-83b1-499f49db1e31",
   "metadata": {},
   "source": [
    "Ans- if A and B\n",
    "     then C\n",
    "       \n",
    "        TABLE\n",
    "    A    B    C\n",
    "    1    1    1\n",
    "    1    0    0\n",
    "    0    1    0 \n",
    "    0    0    0\n",
    "    \n",
    "     if A or B\n",
    "     then c\n",
    "    \n",
    "        TABLE\n",
    "    A    B    C\n",
    "    1    1    1\n",
    "    1    0    1\n",
    "    0    1    1 \n",
    "    0    0    0\n",
    "    \n",
    "     if (A or B) and C\n",
    "     then D\n",
    "       \n",
    "        TABLE\n",
    "    A    B    C    (A or B)    D\n",
    "    1    1    1       1        1 \n",
    "    1    1    0       1        0\n",
    "    1\t 0 \t  1\t      1\t       1\n",
    "    1\t 0\t  0\t      1\t       0\n",
    "    0\t 1\t  1\t      1\t       1\n",
    "    0\t 1\t  0\t      1\t       0\n",
    "    0\t 0\t  1\t      0\t       0\n",
    "    0\t 0\t  0\t      0\t       0\n"
   ]
  },
  {
   "cell_type": "raw",
   "id": "661b2eec-bb27-4539-8ca5-0063026db038",
   "metadata": {},
   "source": [
    "4. What are the values of the following expressions? \n",
    "\n",
    "                                             Ans\n",
    "\n",
    "(5 > 4) and (3 == 5)                        False  \n",
    "not (5 > 4)                                 False\n",
    "(5 > 4) or (3 == 5)                         True\n",
    "not ((5 > 4) or (3 == 5))                   False\n",
    "(True and True) and (True == False)         False\n",
    "(not False) or (not True)                   True\n"
   ]
  },
  {
   "cell_type": "raw",
   "id": "4b6872e4-590e-40fb-88bb-df0207ddd0c4",
   "metadata": {},
   "source": [
    "5. What are the six comparison operators?\n",
    "\n",
    "Operator\t        Name\t          Example \n",
    "\n",
    "==\t                Equal\t          x == y\t\n",
    "!=\t                Not equal\t      x != y\t\n",
    ">\t                Greater than\t  x > y\t\n",
    "<\t                Less than\t      x < y\t\n",
    ">=\t        Greater than or equal to  x >= y\t\n",
    "<=\t        Less than or equal to\t  x <= y"
   ]
  },
  {
   "cell_type": "raw",
   "id": "5e147e3b-60f7-449c-9fc7-29e819fb13f1",
   "metadata": {},
   "source": [
    "6. How do you tell the difference between the equal to and assignment operators?Describe a condition and when you would use one.\n",
    "\n",
    "Ans-              =                                                    ==\n",
    "    \n",
    "      It is an assignment operator.                      It is a relational or comparison operator.\n",
    "      \n",
    "      It is used for assigning the                       It is used for comparing two values. It         value to a variable.                               returns  1 if both the values are equal                                                            otherwise returns 0.\n",
    "      \n",
    "      \n",
    "      Constant term cannot be placed on left            Constant term can be placed in the left \n",
    "      hand side.                                        hand side.\n",
    "      Example: 1=x; is invalid.                         Example: 1==1 is valid and returns 1.\n"
   ]
  },
  {
   "cell_type": "raw",
   "id": "6dec7611-dd7d-42cb-8cf1-a4e5a9949663",
   "metadata": {},
   "source": [
    "7. Identify the three blocks in this code:\n",
    "spam = 0\n",
    "if spam == 10:\n",
    "print('eggs') #1 block\n",
    "if spam > 5:\n",
    "print('bacon') #2 block\n",
    "else:\n",
    "print('ham') #3 block\n",
    "print('spam')\n",
    "print('spam')\n"
   ]
  },
  {
   "cell_type": "markdown",
   "id": "963efc62-6d2c-4b37-8a3e-7c5d0833d42d",
   "metadata": {},
   "source": [
    "8. Write code that prints Hello if 1 is stored in spam, prints Howdy if 2 is stored in spam, and prints Greetings! if anything else is stored in spam."
   ]
  },
  {
   "cell_type": "code",
   "execution_count": 7,
   "id": "b4e0bece-d4d6-4b54-b4e7-08302a3c9f11",
   "metadata": {},
   "outputs": [
    {
     "name": "stdin",
     "output_type": "stream",
     "text": [
      " 1\n"
     ]
    },
    {
     "name": "stdout",
     "output_type": "stream",
     "text": [
      "Hello\n"
     ]
    }
   ],
   "source": [
    "spam = int(input())\n",
    "\n",
    "if spam == 1:\n",
    "    print('Hello')\n",
    "elif spam == 2:\n",
    "    print('Howdy')\n",
    "else:\n",
    "    print('Greetings!')"
   ]
  },
  {
   "cell_type": "markdown",
   "id": "478e69a5-3d28-4a33-8554-2bdf6ea8c408",
   "metadata": {},
   "source": [
    "9.If your programme is stuck in an endless loop, what keys you’ll press?\n",
    "\n",
    "Ans- press ctrl+c key"
   ]
  },
  {
   "cell_type": "raw",
   "id": "7d1c0363-1143-4c96-8794-7d60a08cb9b5",
   "metadata": {},
   "source": [
    "10. How can you tell the difference between break and continue?\n",
    "\n",
    "for break statement\n",
    "The break statement in Python terminates the loop containing it.\n",
    "example:"
   ]
  },
  {
   "cell_type": "code",
   "execution_count": 9,
   "id": "b717f1a6-2115-4f22-a594-9f063f158d53",
   "metadata": {},
   "outputs": [
    {
     "name": "stdout",
     "output_type": "stream",
     "text": [
      "iteration = 0\n",
      "iteration = 1\n",
      "iteration = 2\n",
      "iteration = 3\n",
      "iteration = 4\n"
     ]
    }
   ],
   "source": [
    "for num in range(0,10):\n",
    "    if num ==5:\n",
    "        break\n",
    "    print(f\"iteration = {num}\")    "
   ]
  },
  {
   "cell_type": "raw",
   "id": "16d888ec-7f28-4fc8-bc59-0cc0bd19ce53",
   "metadata": {},
   "source": [
    "for continue statement\n",
    "The continue statement is used to skip the remaining code inside a loop for the current iteration only.\n",
    "example"
   ]
  },
  {
   "cell_type": "code",
   "execution_count": 10,
   "id": "80be50b2-5408-487c-bf93-e6de3caafecd",
   "metadata": {},
   "outputs": [
    {
     "name": "stdout",
     "output_type": "stream",
     "text": [
      "iteration = 0\n",
      "iteration = 1\n",
      "iteration = 2\n",
      "iteration = 3\n",
      "iteration = 4\n",
      "iteration = 6\n",
      "iteration = 7\n",
      "iteration = 8\n",
      "iteration = 9\n"
     ]
    }
   ],
   "source": [
    "for num in range(0,10):\n",
    "    if num ==5:\n",
    "        continue\n",
    "    print(f\"iteration = {num}\")    "
   ]
  },
  {
   "cell_type": "markdown",
   "id": "966f0e29-b6e2-4305-bd40-4f11dca6c2e3",
   "metadata": {},
   "source": [
    "11. In a for loop, what is the difference between range(10), range(0, 10), and range(0, 10, 1)?"
   ]
  },
  {
   "cell_type": "markdown",
   "id": "c8c58223-1f3d-4da7-b3ff-494b4ed7821e",
   "metadata": {},
   "source": [
    "Ans-\n",
    "range(10) When the user call range(x) with one argument, the user will get a series of numbers that starts at 0 and includes every whole number up to, but not including, the number that the user has provided as the stop.\n",
    "\n",
    "range(0,10) When the user call range(x,y) with two arguments, the user gets to decide not only where the series of numbers stops but also where it starts, so the user don’t have to start at 0 all the time. Users can use range(x,y) to generate a series of numbers from X to Y using range(X, Y).\n",
    "\n",
    "range(0,10,1) When the user call range() with three arguments, the user can choose not only where the series of numbers will start and stop, but also how big the difference will be between one number and the next. If the user doesn’t provide a step, then range() will automatically behave as if the step is"
   ]
  },
  {
   "cell_type": "markdown",
   "id": "c6bf3586-74c2-42ca-8554-538404c915f7",
   "metadata": {},
   "source": [
    "12. Write a short program that prints the numbers 1 to 10 using a for loop. Then write an equivalent program that prints the numbers 1 to 10 using a while loop."
   ]
  },
  {
   "cell_type": "code",
   "execution_count": 11,
   "id": "8c957cb2-2e5d-4820-ba8b-74a855852559",
   "metadata": {},
   "outputs": [
    {
     "name": "stdout",
     "output_type": "stream",
     "text": [
      "1\n",
      "2\n",
      "3\n",
      "4\n",
      "5\n",
      "6\n",
      "7\n",
      "8\n",
      "9\n",
      "10\n"
     ]
    }
   ],
   "source": [
    "for i in range(0,10):\n",
    "    print(1+i)"
   ]
  },
  {
   "cell_type": "code",
   "execution_count": 12,
   "id": "f4d2dd60-45ea-48b9-92fc-e2878c7aff04",
   "metadata": {},
   "outputs": [
    {
     "name": "stdout",
     "output_type": "stream",
     "text": [
      "1\n",
      "2\n",
      "3\n",
      "4\n",
      "5\n",
      "6\n",
      "7\n",
      "8\n",
      "9\n",
      "10\n"
     ]
    }
   ],
   "source": [
    "i = 1\n",
    "while(i<=10):\n",
    "    print(i)\n",
    "    i += 1"
   ]
  },
  {
   "cell_type": "markdown",
   "id": "4584b1fb-0e30-45d2-a387-d4e62c85dc3b",
   "metadata": {},
   "source": [
    "13. If you had a function named bacon() inside a module named spam, how would you call it after importing spam?\n",
    "\n",
    "Ans- This function can be called with spam.bacon()"
   ]
  },
  {
   "cell_type": "code",
   "execution_count": null,
   "id": "c4d1c2e4-b92d-4dc9-bf05-69d70c8861ea",
   "metadata": {},
   "outputs": [],
   "source": []
  }
 ],
 "metadata": {
  "kernelspec": {
   "display_name": "Python 3 (ipykernel)",
   "language": "python",
   "name": "python3"
  },
  "language_info": {
   "codemirror_mode": {
    "name": "ipython",
    "version": 3
   },
   "file_extension": ".py",
   "mimetype": "text/x-python",
   "name": "python",
   "nbconvert_exporter": "python",
   "pygments_lexer": "ipython3",
   "version": "3.10.6"
  }
 },
 "nbformat": 4,
 "nbformat_minor": 5
}
