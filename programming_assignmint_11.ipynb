{
  "nbformat": 4,
  "nbformat_minor": 0,
  "metadata": {
    "colab": {
      "provenance": []
    },
    "kernelspec": {
      "name": "python3",
      "display_name": "Python 3"
    },
    "language_info": {
      "name": "python"
    }
  },
  "cells": [
    {
      "cell_type": "markdown",
      "source": [
        "1. Write a Python program to find words which are greater than given length k ?"
      ],
      "metadata": {
        "id": "V7IPlPaJJftj"
      }
    },
    {
      "cell_type": "code",
      "source": [
        "def checkLengthOfString():\n",
        "    in_string = input(\"Enter the string: \")\n",
        "    in_length = int(input('Enter the length of the string: '))\n",
        "    out_string = []\n",
        "    for string in in_string.split(\" \"):\n",
        "        if len(string) > in_length:\n",
        "            out_string.append(string)\n",
        "    print(','.join(out_string))\n",
        "\n",
        "checkLengthOfString()"
      ],
      "metadata": {
        "colab": {
          "base_uri": "https://localhost:8080/"
        },
        "id": "8GfairchJjIR",
        "outputId": "16241283-e9f5-4774-bfd9-2e17cc1dd5bb"
      },
      "execution_count": 1,
      "outputs": [
        {
          "output_type": "stream",
          "name": "stdout",
          "text": [
            "Enter the string: INeuron Full Stack Data Science Course is Awesome\n",
            "Enter the length of the string: 4\n",
            "INeuron,Stack,Science,Course,Awesome\n"
          ]
        }
      ]
    },
    {
      "cell_type": "markdown",
      "source": [
        "2. Write a Python program for removing i-th character from a string ?"
      ],
      "metadata": {
        "id": "gMdJJVwfJmrm"
      }
    },
    {
      "cell_type": "code",
      "source": [
        "def removeCharacter():\n",
        "    in_string = input(\"Enter the String: \")\n",
        "    in_char_num = int(input(\"Enter the ith Character: \"))\n",
        "    out_string = ''\n",
        "    for ele in range(len(in_string)):\n",
        "        if ele != in_char_num:\n",
        "            out_string = out_string + in_string[ele]\n",
        "    print(out_string)\n",
        "\n",
        "removeCharacter()"
      ],
      "metadata": {
        "colab": {
          "base_uri": "https://localhost:8080/"
        },
        "id": "kkbFckn1Jk0E",
        "outputId": "da6cfecf-df94-4db9-d064-2ff28fa008d4"
      },
      "execution_count": 2,
      "outputs": [
        {
          "output_type": "stream",
          "name": "stdout",
          "text": [
            "Enter the String: ineuron\n",
            "Enter the ith Character: 2\n",
            "inuron\n"
          ]
        }
      ]
    },
    {
      "cell_type": "markdown",
      "source": [
        "3. Write a Python program to split and join a string ?"
      ],
      "metadata": {
        "id": "vJUDRPZYKEfT"
      }
    },
    {
      "cell_type": "code",
      "source": [
        "def splitJoinString():\n",
        "    in_string = input('Enter the string: ')\n",
        "    print(f\"Split String: {in_string.split(' ')}\")\n",
        "    print(f\"Join String: {' '.join(in_string.split(' '))}\")\n",
        "\n",
        "splitJoinString()"
      ],
      "metadata": {
        "colab": {
          "base_uri": "https://localhost:8080/"
        },
        "id": "Ydm7LHCiJ4lU",
        "outputId": "a3849eb6-1dbb-470c-c4b3-aeac772b08ed"
      },
      "execution_count": 3,
      "outputs": [
        {
          "output_type": "stream",
          "name": "stdout",
          "text": [
            "Enter the string: Ineuron Full Stack Data Science Course\n",
            "Split String: ['Ineuron', 'Full', 'Stack', 'Data', 'Science', 'Course']\n",
            "Join String: Ineuron Full Stack Data Science Course\n"
          ]
        }
      ]
    },
    {
      "cell_type": "markdown",
      "source": [
        "4. Write a Python to check if a given string is binary string or not ?"
      ],
      "metadata": {
        "id": "hnWQojUVKMcn"
      }
    },
    {
      "cell_type": "code",
      "source": [
        "def checkBinary():\n",
        "    in_string = input('Enter the string: ')\n",
        "    stun = 0\n",
        "    for ele in in_string:\n",
        "        if ele in ['0','1']:\n",
        "            stun = 1\n",
        "            continue\n",
        "        else:\n",
        "            stun = 0\n",
        "            break\n",
        "    statement = 'is a binary string' if stun == 1 else 'is not a binart string'\n",
        "    print(f'{in_string} {statement}')\n",
        "\n",
        "checkBinary()\n",
        "checkBinary()"
      ],
      "metadata": {
        "colab": {
          "base_uri": "https://localhost:8080/"
        },
        "id": "RVpZecKDKHC3",
        "outputId": "bc1aa4ad-5dd6-4988-e6e9-166c4c6f5844"
      },
      "execution_count": 4,
      "outputs": [
        {
          "output_type": "stream",
          "name": "stdout",
          "text": [
            "Enter the string: 1234\n",
            "1234 is not a binart string\n",
            "Enter the string: 101010101\n",
            "101010101 is a binary string\n"
          ]
        }
      ]
    },
    {
      "cell_type": "markdown",
      "source": [
        "5. Write a Python program to find uncommon words from two Strings ?"
      ],
      "metadata": {
        "id": "06zEnnLfKWSM"
      }
    },
    {
      "cell_type": "code",
      "source": [
        "def unCommonWords():\n",
        "    in_string_1 = set(input(\"Enter the String 1: \").split(' '))\n",
        "    in_string_2 = set(input(\"Enter the String 2: \").split(' '))\n",
        "    out_string = (in_string_1.union(in_string_2)).difference(in_string_1.intersection(in_string_2))\n",
        "    print(out_string)\n",
        "\n",
        "unCommonWords()"
      ],
      "metadata": {
        "colab": {
          "base_uri": "https://localhost:8080/"
        },
        "id": "hPkibBsoKOKt",
        "outputId": "6c913566-9e5b-4419-b4d1-bfd212acb465"
      },
      "execution_count": 5,
      "outputs": [
        {
          "output_type": "stream",
          "name": "stdout",
          "text": [
            "Enter the String 1: Supervised Learning\n",
            "Enter the String 2: Unsupervised Learning\n",
            "{'Supervised', 'Unsupervised'}\n"
          ]
        }
      ]
    },
    {
      "cell_type": "markdown",
      "source": [
        "6. Write a Python to find all duplicate characters in string ?\n"
      ],
      "metadata": {
        "id": "wmloe9CEKgWT"
      }
    },
    {
      "cell_type": "code",
      "source": [
        "def duplicateChars():\n",
        "    in_string = input('Enter the string: ')\n",
        "    non_duplicate_list = []\n",
        "    duplicate_list = []\n",
        "    for ele in in_string:\n",
        "        if ele not in non_duplicate_list:\n",
        "            non_duplicate_list.append(ele)\n",
        "        else:\n",
        "            duplicate_list.append(ele)\n",
        "    print(f'Duplicate characters are: {list(set(duplicate_list))}')\n",
        "\n",
        "duplicateChars()"
      ],
      "metadata": {
        "colab": {
          "base_uri": "https://localhost:8080/"
        },
        "id": "2CXORT0KKYek",
        "outputId": "ecf19ae4-1ea3-4d92-ffe6-d94b66662d9b"
      },
      "execution_count": 6,
      "outputs": [
        {
          "output_type": "stream",
          "name": "stdout",
          "text": [
            "Enter the string: full stack data science course\n",
            "Duplicate characters are: ['c', 't', 'e', 'l', 's', 'a', ' ', 'u']\n"
          ]
        }
      ]
    },
    {
      "cell_type": "markdown",
      "source": [
        "7. Write a Python Program to check if a string contains any special character?"
      ],
      "metadata": {
        "id": "YIWErt27Kp3n"
      }
    },
    {
      "cell_type": "code",
      "source": [
        "def checkSpecialChar():\n",
        "    spl_chars = '[@_!#$%^&*()<>?/\\|}{~:]'\n",
        "    in_num = input('Enter the string: ')\n",
        "    count = 0\n",
        "    char_list = []\n",
        "    for ele in in_num:\n",
        "        if ele in spl_chars:\n",
        "            char_list.append(ele)\n",
        "            count = count+1\n",
        "    print(f'There are {count} Speical Characters in {in_num} which are {char_list}')\n",
        "\n",
        "\n",
        "checkSpecialChar()\n",
        "checkSpecialChar()"
      ],
      "metadata": {
        "colab": {
          "base_uri": "https://localhost:8080/"
        },
        "id": "J3_Xvew7KjDp",
        "outputId": "7665b72e-df90-4500-e506-d42308eff89e"
      },
      "execution_count": 7,
      "outputs": [
        {
          "output_type": "stream",
          "name": "stdout",
          "text": [
            "Enter the string: DS @ Ineuron by Sudhanshu & krish\n",
            "There are 2 Speical Characters in DS @ Ineuron by Sudhanshu & krish which are ['@', '&']\n",
            "Enter the string: Full Metal Alchemist : Brotherhood\n",
            "There are 1 Speical Characters in Full Metal Alchemist : Brotherhood which are [':']\n"
          ]
        }
      ]
    },
    {
      "cell_type": "code",
      "source": [],
      "metadata": {
        "id": "-Apth2bGKsqi"
      },
      "execution_count": null,
      "outputs": []
    }
  ]
}