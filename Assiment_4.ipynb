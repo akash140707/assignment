{
  "nbformat": 4,
  "nbformat_minor": 0,
  "metadata": {
    "colab": {
      "provenance": []
    },
    "kernelspec": {
      "name": "python3",
      "display_name": "Python 3"
    },
    "language_info": {
      "name": "python"
    }
  },
  "cells": [
    {
      "cell_type": "markdown",
      "source": [
        "1. What exactly is []?"
      ],
      "metadata": {
        "id": "zTZX4R91pDeI"
      }
    },
    {
      "cell_type": "markdown",
      "source": [
        "Ans: The empty list represented by [] is a list that contains no items. This is similar to ' ' which represents an empty string"
      ],
      "metadata": {
        "id": "izJJcBSmpOxO"
      }
    },
    {
      "cell_type": "markdown",
      "source": [
        "2. In a list of values stored in a variable called spam, how would you assign the value 'hello' as the third value? (Assume [2, 4, 6, 8, 10] are in spam.)"
      ],
      "metadata": {
        "id": "pEdTcJbKphVk"
      }
    },
    {
      "cell_type": "markdown",
      "source": [
        "Ans: spam[2]='hello' "
      ],
      "metadata": {
        "id": "duy9PUvIpy_D"
      }
    },
    {
      "cell_type": "code",
      "execution_count": 1,
      "metadata": {
        "colab": {
          "base_uri": "https://localhost:8080/"
        },
        "id": "ZIpxfKLIo111",
        "outputId": "3cbf2d3f-7556-46e0-a7e8-543dd2abfbed"
      },
      "outputs": [
        {
          "output_type": "stream",
          "name": "stdout",
          "text": [
            "[2, 4, 6, 8, 10]\n",
            "[2, 4, 'hello', 8, 10]\n"
          ]
        }
      ],
      "source": [
        "spam=[2,4,6,8,10]\n",
        "print(spam)\n",
        "spam[2]='hello' \n",
        "print(spam)"
      ]
    },
    {
      "cell_type": "markdown",
      "source": [
        "Let's pretend the spam includes the list ['a', 'b', 'c', 'd'] for the next three queries."
      ],
      "metadata": {
        "id": "u9GNtXbeqT10"
      }
    },
    {
      "cell_type": "markdown",
      "source": [
        "3. What is the value of spam[int(int('3' * 2) / 11)]?"
      ],
      "metadata": {
        "id": "DRU1cvfQqWsK"
      }
    },
    {
      "cell_type": "markdown",
      "source": [
        "Ans: \"d\""
      ],
      "metadata": {
        "id": "R-92wd0Tqe9f"
      }
    },
    {
      "cell_type": "code",
      "source": [
        "spam=['a','b','c','d']\n",
        "print(\"spam[int(int('3'*2)//11)] ->\",spam[int(int('3'*2)//11)])"
      ],
      "metadata": {
        "colab": {
          "base_uri": "https://localhost:8080/"
        },
        "id": "Jold4bmcp8I2",
        "outputId": "159f2ab2-17ab-4137-de40-7d95162b7113"
      },
      "execution_count": 2,
      "outputs": [
        {
          "output_type": "stream",
          "name": "stdout",
          "text": [
            "spam[int(int('3'*2)//11)] -> d\n"
          ]
        }
      ]
    },
    {
      "cell_type": "markdown",
      "source": [
        "4. What is the value of spam[-1]?"
      ],
      "metadata": {
        "id": "h94NLPvMqqiL"
      }
    },
    {
      "cell_type": "markdown",
      "source": [
        "Ans: \"d\""
      ],
      "metadata": {
        "id": "cvf6kMIvqxXc"
      }
    },
    {
      "cell_type": "code",
      "source": [
        "spam=['a','b','c','d']\n",
        "print('spam[-1] -> ',spam[-1])"
      ],
      "metadata": {
        "colab": {
          "base_uri": "https://localhost:8080/"
        },
        "id": "H4jTxxPVqmYv",
        "outputId": "3374fc2f-da47-49a2-bcff-ab7d336ccc96"
      },
      "execution_count": 3,
      "outputs": [
        {
          "output_type": "stream",
          "name": "stdout",
          "text": [
            "spam[-1] ->  d\n"
          ]
        }
      ]
    },
    {
      "cell_type": "markdown",
      "source": [
        "5. What is the value of spam[:2]?"
      ],
      "metadata": {
        "id": "-2zC2Wddq67A"
      }
    },
    {
      "cell_type": "markdown",
      "source": [
        "Ans: [a,b]"
      ],
      "metadata": {
        "id": "5NNztksUq8im"
      }
    },
    {
      "cell_type": "code",
      "source": [
        "print(spam)\n",
        "print(spam[:2])"
      ],
      "metadata": {
        "colab": {
          "base_uri": "https://localhost:8080/"
        },
        "id": "h2yi8b0Lq3b5",
        "outputId": "7d7cdabe-bc5d-44fd-8151-b186f66bb482"
      },
      "execution_count": 4,
      "outputs": [
        {
          "output_type": "stream",
          "name": "stdout",
          "text": [
            "['a', 'b', 'c', 'd']\n",
            "['a', 'b']\n"
          ]
        }
      ]
    },
    {
      "cell_type": "markdown",
      "source": [
        "Let's pretend bacon has the list [3.14, 'cat,' 11, 'cat,' True] for the next three questions."
      ],
      "metadata": {
        "id": "b0t2YDxPrMi5"
      }
    },
    {
      "cell_type": "markdown",
      "source": [
        "6. What is the value of bacon.index('cat')?"
      ],
      "metadata": {
        "id": "4oEp_iNUrPaP"
      }
    },
    {
      "cell_type": "markdown",
      "source": [
        "Ans: The value of bacon.index('cat') is 1 (Note: index method returns the index of first occuerence of 'cat')"
      ],
      "metadata": {
        "id": "jZqU2FOYrYqb"
      }
    },
    {
      "cell_type": "code",
      "source": [
        "bacon=[3.14,'cat',11,'cat',True]\n",
        "print(\"bacon.index('cat') ->\",bacon.index('cat'))"
      ],
      "metadata": {
        "colab": {
          "base_uri": "https://localhost:8080/"
        },
        "id": "Yk6ee0wMrHn9",
        "outputId": "97d6b867-6af3-4436-f1f8-f0e243297b6f"
      },
      "execution_count": 5,
      "outputs": [
        {
          "output_type": "stream",
          "name": "stdout",
          "text": [
            "bacon.index('cat') -> 1\n"
          ]
        }
      ]
    },
    {
      "cell_type": "markdown",
      "source": [
        "7. How does bacon.append(99) change the look of the list value in bacon?"
      ],
      "metadata": {
        "id": "9PeSpKABrlrp"
      }
    },
    {
      "cell_type": "markdown",
      "source": [
        "Ans: The append method adds new elements to the end of the list"
      ],
      "metadata": {
        "id": "Uk-7gu8HrtYf"
      }
    },
    {
      "cell_type": "code",
      "source": [
        "print(bacon)\n",
        "bacon.append(99) \n",
        "print(bacon)"
      ],
      "metadata": {
        "colab": {
          "base_uri": "https://localhost:8080/"
        },
        "id": "PK5CINDLrb7o",
        "outputId": "b0c224d9-fd7b-455c-bf42-570a0374eedf"
      },
      "execution_count": 6,
      "outputs": [
        {
          "output_type": "stream",
          "name": "stdout",
          "text": [
            "[3.14, 'cat', 11, 'cat', True]\n",
            "[3.14, 'cat', 11, 'cat', True, 99]\n"
          ]
        }
      ]
    },
    {
      "cell_type": "markdown",
      "source": [
        "8. How does bacon.remove('cat') change the look of the list in bacon?"
      ],
      "metadata": {
        "id": "N4c7piNIshD3"
      }
    },
    {
      "cell_type": "markdown",
      "source": [
        "Ans: The remove method removes the first occurence of the element in the list"
      ],
      "metadata": {
        "id": "DI6L6B0psnRY"
      }
    },
    {
      "cell_type": "code",
      "source": [
        "print(bacon)\n",
        "bacon.remove('cat')\n",
        "print(bacon)"
      ],
      "metadata": {
        "colab": {
          "base_uri": "https://localhost:8080/"
        },
        "id": "5DtOiuNorxk0",
        "outputId": "02ea825a-6c84-4c76-c82a-34844fb3afee"
      },
      "execution_count": 7,
      "outputs": [
        {
          "output_type": "stream",
          "name": "stdout",
          "text": [
            "[3.14, 'cat', 11, 'cat', True, 99]\n",
            "[3.14, 11, 'cat', True, 99]\n"
          ]
        }
      ]
    },
    {
      "cell_type": "markdown",
      "source": [
        "9.what are the list concatenation and list replication operations?"
      ],
      "metadata": {
        "id": "WUaAHCOMsv4t"
      }
    },
    {
      "cell_type": "markdown",
      "source": [
        "Ans: The operator for list concatenation is +, while the operator for replication is *. (This is the same as for strings.)"
      ],
      "metadata": {
        "id": "Hb_niSUutPIK"
      }
    },
    {
      "cell_type": "code",
      "source": [
        "list_1 = [\"a\",\"b\",\"c\",\"d\"]\n",
        "list_2 = [\"1\",\"2\",\"3\",\"4\"]\n",
        "print(list_1 + list_2) # list concatenation\n",
        "print(list_2*2) # list replication"
      ],
      "metadata": {
        "colab": {
          "base_uri": "https://localhost:8080/"
        },
        "id": "8fFZkH6bsrTB",
        "outputId": "e34c4b02-7b0d-4ebe-8cc2-61097cf50553"
      },
      "execution_count": 9,
      "outputs": [
        {
          "output_type": "stream",
          "name": "stdout",
          "text": [
            "['a', 'b', 'c', 'd', '1', '2', '3', '4']\n",
            "['1', '2', '3', '4', '1', '2', '3', '4']\n"
          ]
        }
      ]
    },
    {
      "cell_type": "markdown",
      "source": [
        "10. What is difference between the list methods append() and insert()?"
      ],
      "metadata": {
        "id": "YSddCLRnu4Xw"
      }
    },
    {
      "cell_type": "markdown",
      "source": [
        "Ans: While append() will add values only to the end of a list, insert() can add them anywhere in the list."
      ],
      "metadata": {
        "id": "jCwoX4gavDwm"
      }
    },
    {
      "cell_type": "code",
      "source": [
        "list = [1,2,3,4,5]\n",
        "list.append(6)\n",
        "print(list)\n",
        "list.insert(2,'Demo')\n",
        "print(list)"
      ],
      "metadata": {
        "colab": {
          "base_uri": "https://localhost:8080/"
        },
        "id": "2FGdI673uFGY",
        "outputId": "e1e4dda1-df53-440f-b48d-f249ca83a809"
      },
      "execution_count": 10,
      "outputs": [
        {
          "output_type": "stream",
          "name": "stdout",
          "text": [
            "[1, 2, 3, 4, 5, 6]\n",
            "[1, 2, 'Demo', 3, 4, 5, 6]\n"
          ]
        }
      ]
    },
    {
      "cell_type": "markdown",
      "source": [
        "11. What are the two methods for removing items from a list?"
      ],
      "metadata": {
        "id": "b4MwsA86vO3w"
      }
    },
    {
      "cell_type": "markdown",
      "source": [
        "Ans: The del statement and the remove() method are two ways to remove values from a list"
      ],
      "metadata": {
        "id": "WbIIBkWLvTgb"
      }
    },
    {
      "cell_type": "markdown",
      "source": [
        "12. Describe how list values and string values are identical."
      ],
      "metadata": {
        "id": "n1oUCSKNvegh"
      }
    },
    {
      "cell_type": "markdown",
      "source": [
        "Ans: Both lists and strings can be passed to len() function, have indexes and slices, be used in for loops, be concatenated or replicated, and be used with the in and not in operators."
      ],
      "metadata": {
        "id": "uwoTBFz8vjaZ"
      }
    },
    {
      "cell_type": "markdown",
      "source": [
        "13. What's the difference between tuples and lists?"
      ],
      "metadata": {
        "id": "UYRMBxiBwLOe"
      }
    },
    {
      "cell_type": "markdown",
      "source": [
        "Ans: Lists are Mutable, Indexable and Slicable. they can have values added, removed, or changed. Tuples are Immutable but Indexable and Slicable. the tuple values cannot be changed at all. Also, tuples are represented using parentheses, (), while lists use the square brackets, []."
      ],
      "metadata": {
        "id": "oyp-YildwOfB"
      }
    },
    {
      "cell_type": "markdown",
      "source": [
        "14. How do you type a tuple value that only contains the integer 42?"
      ],
      "metadata": {
        "id": "y9-O-GoDwcvy"
      }
    },
    {
      "cell_type": "markdown",
      "source": [
        "Ans:(42,) (The trailing comma is mandatory. otherwise its considered as a int by python Interpreter)"
      ],
      "metadata": {
        "id": "d6rlJJoyw3xD"
      }
    },
    {
      "cell_type": "code",
      "source": [
        "tup1 = (42)\n",
        "tup2 = (42,)\n",
        "print(type(tup1)) \n",
        "print(type(tup2))"
      ],
      "metadata": {
        "colab": {
          "base_uri": "https://localhost:8080/"
        },
        "id": "ybNRTwMevG6j",
        "outputId": "d0a19f8f-a8d3-40b2-a478-23e4a153874e"
      },
      "execution_count": 11,
      "outputs": [
        {
          "output_type": "stream",
          "name": "stdout",
          "text": [
            "<class 'int'>\n",
            "<class 'tuple'>\n"
          ]
        }
      ]
    },
    {
      "cell_type": "markdown",
      "source": [
        "15. How do you get a list value's tuple form? How do you get a tuple value's list form?"
      ],
      "metadata": {
        "id": "fbpSqUcsxzF0"
      }
    },
    {
      "cell_type": "markdown",
      "source": [
        "Ans: The tuple() and list() functions, respectively are used to convert a list to tuple and vice versa"
      ],
      "metadata": {
        "id": "JfINI6Xex6o0"
      }
    },
    {
      "cell_type": "markdown",
      "source": [
        "16. Variables that \"contain\" list values are not necessarily lists themselves. Instead, what do they contain?"
      ],
      "metadata": {
        "id": "jKvx7qTkx-hI"
      }
    },
    {
      "cell_type": "markdown",
      "source": [
        "Ans: They contain references to list values."
      ],
      "metadata": {
        "id": "dmHp-yxCyGHz"
      }
    },
    {
      "cell_type": "markdown",
      "source": [
        "17. How do you distinguish between copy.copy() and copy.deepcopy()?"
      ],
      "metadata": {
        "id": "IBK6TQl_yNr2"
      }
    },
    {
      "cell_type": "markdown",
      "source": [
        "Ans: The copy.copy() function will do a shallow copy of a list, while the copy.deepcopy() function will do a deep copy of a list. That is, only copy.deepcopy() will duplicate any lists inside the list."
      ],
      "metadata": {
        "id": "HgawOBL0ySsF"
      }
    }
  ]
}