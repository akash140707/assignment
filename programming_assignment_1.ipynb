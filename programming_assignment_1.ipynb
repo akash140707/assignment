{
  "nbformat": 4,
  "nbformat_minor": 0,
  "metadata": {
    "colab": {
      "provenance": []
    },
    "kernelspec": {
      "name": "python3",
      "display_name": "Python 3"
    },
    "language_info": {
      "name": "python"
    }
  },
  "cells": [
    {
      "cell_type": "markdown",
      "source": [
        "1. Write a Python program to print &quot;Hello Python&quot;?\n"
      ],
      "metadata": {
        "id": "SH9_TqwiJ5zP"
      }
    },
    {
      "cell_type": "code",
      "execution_count": 1,
      "metadata": {
        "colab": {
          "base_uri": "https://localhost:8080/"
        },
        "id": "S_TyrIZhJvPu",
        "outputId": "b50cd23e-062a-42ff-94ee-f60add69f97f"
      },
      "outputs": [
        {
          "output_type": "stream",
          "name": "stdout",
          "text": [
            "Hello Python\n"
          ]
        }
      ],
      "source": [
        "print(\"Hello Python\")"
      ]
    },
    {
      "cell_type": "markdown",
      "source": [
        "2. Write a Python program to do arithmetical operations addition and division.?"
      ],
      "metadata": {
        "id": "uBDjwwnkKsYR"
      }
    },
    {
      "cell_type": "code",
      "source": [
        "num1 = float(input(\"Enter the frist number: \"))\n",
        "num2 = float(input(\"Enter the second number: \"))\n",
        "\n",
        "# Addition\n",
        "\n",
        "sum_result = num1 + num2\n",
        "print(\"sum : \", sum_result)\n",
        "\n",
        "# Division\n",
        "\n",
        "if num2 != 0:\n",
        "  Division_result = num1/num2\n",
        "  print(\"Division : \",Division_result)\n",
        "else:\n",
        "  print(\"Can't divide by zero\")"
      ],
      "metadata": {
        "colab": {
          "base_uri": "https://localhost:8080/"
        },
        "id": "oY2TxImLKpVe",
        "outputId": "1647f933-b3e6-49c8-a51d-502dfd7d6d48"
      },
      "execution_count": 5,
      "outputs": [
        {
          "output_type": "stream",
          "name": "stdout",
          "text": [
            "Enter the frist number: 6\n",
            "Enter the second number: 9\n",
            "sum :  15.0\n",
            "Division :  0.6666666666666666\n"
          ]
        }
      ]
    },
    {
      "cell_type": "markdown",
      "source": [
        "3. Write a Python program to find the area of a triangle?"
      ],
      "metadata": {
        "id": "KiNpRvpWOsI7"
      }
    },
    {
      "cell_type": "code",
      "source": [
        "from traitlets.config.application import TRAITLETS_APPLICATION_RAISE_CONFIG_FILE_ERROR\n",
        "base = float(input(\"Enter base length of the tringle: \"))\n",
        "hight = float(input(\"Enter hight length of the triangle: \"))\n",
        "\n",
        "# calculatr area of the triangle\n",
        "\n",
        "area = (0.5 * base * hight)\n",
        "\n",
        "print(\"Area of the triangle : \", area)\n",
        "\n"
      ],
      "metadata": {
        "colab": {
          "base_uri": "https://localhost:8080/"
        },
        "id": "V9FAUifMKifc",
        "outputId": "062c2200-7586-4bc9-ccf6-eb3dcf80d457"
      },
      "execution_count": 6,
      "outputs": [
        {
          "output_type": "stream",
          "name": "stdout",
          "text": [
            "Enter base length of the tringle: 3\n",
            "Enter hight length of the triangle: 5\n",
            "Area of the triangle :  7.5\n"
          ]
        }
      ]
    },
    {
      "cell_type": "markdown",
      "source": [
        "4. Write a Python program to swap two variables?"
      ],
      "metadata": {
        "id": "2I1yg5vrSCAR"
      }
    },
    {
      "cell_type": "code",
      "source": [
        "# Swaping the variable\n",
        "\n",
        "var1 = input(\"input the swaping variable 1: \")\n",
        "var2 = input(\"input the swaping variable 2: \")\n",
        "\n",
        "\n",
        "# After swaping\n",
        "temp = var1\n",
        "var1 = var2\n",
        "var2 = temp\n",
        "\n",
        "print(\"After swaping\")\n",
        "print(\"Variable 1 : \",var1)\n",
        "print(\"Variable 2 : \",var2)"
      ],
      "metadata": {
        "colab": {
          "base_uri": "https://localhost:8080/"
        },
        "id": "BdaVp9_jSBqS",
        "outputId": "e86d7fec-a296-49c9-8ad4-ef527be553bc"
      },
      "execution_count": 9,
      "outputs": [
        {
          "output_type": "stream",
          "name": "stdout",
          "text": [
            "input the swaping variable 1: ram\n",
            "input the swaping variable 2: shyam\n",
            "After swaping\n",
            "Variable 1 :  shyam\n",
            "Variable 2 :  ram\n"
          ]
        }
      ]
    },
    {
      "cell_type": "markdown",
      "source": [
        "5. Write a Python program to generate a random number?"
      ],
      "metadata": {
        "id": "wWwXWgvLUfEd"
      }
    },
    {
      "cell_type": "code",
      "source": [
        "import random\n",
        "\n",
        "lower_limit = int(input(\"Enter lower limit: \"))\n",
        "higher_limit = int(input(\"Enter high limit: \"))\n",
        "\n",
        "random_num = random.randint(lower_limit,higher_limit)\n",
        "print(\"Random Number: \",random_num)"
      ],
      "metadata": {
        "colab": {
          "base_uri": "https://localhost:8080/"
        },
        "id": "DK0lMMP6Qxws",
        "outputId": "846a88dc-b5e1-4028-a9a9-98068b01568b"
      },
      "execution_count": 11,
      "outputs": [
        {
          "output_type": "stream",
          "name": "stdout",
          "text": [
            "Enter lower limit: 1\n",
            "Enter high limit: 10\n",
            "Random Number:  9\n"
          ]
        }
      ]
    },
    {
      "cell_type": "code",
      "source": [],
      "metadata": {
        "id": "Yr46bRQ2RtwU"
      },
      "execution_count": null,
      "outputs": []
    }
  ]
}