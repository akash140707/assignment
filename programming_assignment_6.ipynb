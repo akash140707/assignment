{
  "nbformat": 4,
  "nbformat_minor": 0,
  "metadata": {
    "colab": {
      "provenance": []
    },
    "kernelspec": {
      "name": "python3",
      "display_name": "Python 3"
    },
    "language_info": {
      "name": "python"
    }
  },
  "cells": [
    {
      "cell_type": "markdown",
      "source": [
        "1. Write a Python Program to Display Fibonacci Sequence Using Recursion?"
      ],
      "metadata": {
        "id": "zqWM84tzmP6k"
      }
    },
    {
      "cell_type": "code",
      "source": [
        "def fibonacci_recursive(n):\n",
        "  if n <= 0:\n",
        "    return []\n",
        "\n",
        "  elif n == 1:\n",
        "    return [0]\n",
        "\n",
        "  elif n == 2:\n",
        "    return [0,1]\n",
        "\n",
        "  else:\n",
        "    fib_sequence = fibonacci_recursive(n-1)\n",
        "    fib_sequence.append(fib_sequence[-1] + fib_sequence[-2])\n",
        "    return fib_sequence\n",
        "\n",
        "num_term = int(input(\"Enter the number of term in the fibonacci_sequence:  \"))\n",
        "\n",
        "fibonacci_sequence = fibonacci_recursive(num_term)\n",
        "print(\"fibonacci_sequence \" ,fibonacci_sequence)"
      ],
      "metadata": {
        "id": "coONxgtkmhL5",
        "colab": {
          "base_uri": "https://localhost:8080/"
        },
        "outputId": "adb06a42-571c-4136-dc26-4f14a97523f2"
      },
      "execution_count": 8,
      "outputs": [
        {
          "output_type": "stream",
          "name": "stdout",
          "text": [
            "Enter the number of term in the fibonacci_sequence:  5\n",
            "fibonacci_sequence  [0, 1, 1, 2, 3]\n"
          ]
        }
      ]
    },
    {
      "cell_type": "markdown",
      "source": [
        "2. Write a Python Program to Find Factorial of Number Using Recursion?"
      ],
      "metadata": {
        "id": "00ueN75smTve"
      }
    },
    {
      "cell_type": "code",
      "source": [
        "def factorial_recursion(n):\n",
        "  if n == 0 or n == 1:\n",
        "    return 1\n",
        "  else:\n",
        "    return (n * factorial_recursion(n-1))\n",
        "\n",
        "num = int(input(\"Enter a  number to calculate it's  factorial: \"))\n",
        "\n",
        "factorial = factorial_recursion(num)\n",
        "print(f\"Factorial of {num} is {factorial}\")"
      ],
      "metadata": {
        "id": "AC-akxwTmiA3",
        "colab": {
          "base_uri": "https://localhost:8080/"
        },
        "outputId": "3aa3e96d-d932-4105-ec07-4d01239f5e3d"
      },
      "execution_count": 10,
      "outputs": [
        {
          "output_type": "stream",
          "name": "stdout",
          "text": [
            "Enter a  number to calculate it's  factorial: 5\n",
            "Factorial of 5 is 120\n"
          ]
        }
      ]
    },
    {
      "cell_type": "markdown",
      "source": [
        "3. Write a Python Program to calculate your Body Mass Index?"
      ],
      "metadata": {
        "id": "_jxu0iX1mWbZ"
      }
    },
    {
      "cell_type": "code",
      "source": [
        "def calculate_bmi(weight, hight):\n",
        "  bmi = weight / (hight ** 2)\n",
        "  return bmi\n",
        "\n",
        "weight = float(input(\"Enter weight in kilogram for calculate bmi: \"))\n",
        "hight = float(input(\"Enter weight in meters for calculate bmi: \"))\n",
        "\n",
        "bmi = calculate_bmi(weight, hight)\n",
        "\n",
        "if bmi < 18.5:\n",
        "  category = \"Under weight\"\n",
        "\n",
        "elif 18.5 <= bmi > 24.5:\n",
        "  category = \"Normal weight\"\n",
        "\n",
        "elif bmi >= 25:\n",
        "  category = \"Over weight\"\n",
        "\n",
        "else:\n",
        "  category = \"Obese\"\n",
        "\n",
        "print(f\"Your BMI is: {bmi:.2f}\")\n",
        "print(f\"Category: {category}\")\n"
      ],
      "metadata": {
        "id": "4J4xcgebmiui",
        "colab": {
          "base_uri": "https://localhost:8080/"
        },
        "outputId": "672f0ebd-10fb-4a5d-8464-44a69037ccc3"
      },
      "execution_count": 18,
      "outputs": [
        {
          "output_type": "stream",
          "name": "stdout",
          "text": [
            "Enter weight in kilogram for calculate bmi: 60\n",
            "Enter weight in meters for calculate bmi: 1.55\n",
            "Your BMI is: 24.97\n",
            "Category: Normal weight\n"
          ]
        }
      ]
    },
    {
      "cell_type": "markdown",
      "source": [
        "4. Write a Python Program to calculate the natural logarithm of any number?"
      ],
      "metadata": {
        "id": "nIhZk4hambCm"
      }
    },
    {
      "cell_type": "code",
      "source": [
        "import math\n",
        "\n",
        "# Get the number for which you want to calculate the natural logarithm\n",
        "num = float(input(\"Enter a number: \"))\n",
        "\n",
        "# Calculate the natural logarithm\n",
        "ln_value = math.log(num)\n",
        "\n",
        "# Display the result\n",
        "print(f\"The natural logarithm of {num} is {ln_value:.2f}\")\n"
      ],
      "metadata": {
        "id": "XoCWGdQjmj0T",
        "colab": {
          "base_uri": "https://localhost:8080/"
        },
        "outputId": "075166ca-d7da-45c2-d8f5-420d58cae33a"
      },
      "execution_count": 19,
      "outputs": [
        {
          "output_type": "stream",
          "name": "stdout",
          "text": [
            "Enter a number: 10\n",
            "The natural logarithm of 10.0 is 2.30\n"
          ]
        }
      ]
    },
    {
      "cell_type": "markdown",
      "source": [
        "5. Write a Python Program for cube sum of first n natural numbers?"
      ],
      "metadata": {
        "id": "-S7XggDmmer7"
      }
    },
    {
      "cell_type": "code",
      "execution_count": 20,
      "metadata": {
        "id": "ynGIFEqIlgPo",
        "colab": {
          "base_uri": "https://localhost:8080/"
        },
        "outputId": "ae61b55a-4b88-473b-c475-2446875ca0ef"
      },
      "outputs": [
        {
          "output_type": "stream",
          "name": "stdout",
          "text": [
            "Enter a value for n: 5\n",
            "The cube sum of the first 5 natural numbers is: 225\n"
          ]
        }
      ],
      "source": [
        "def cube_sum_of_natural_numbers(n):\n",
        "    cube_sum = 0\n",
        "    for i in range(1, n + 1):\n",
        "        cube_sum += i ** 3\n",
        "    return cube_sum\n",
        "\n",
        "# Get the value of n from the user\n",
        "n = int(input(\"Enter a value for n: \"))\n",
        "\n",
        "# Calculate the cube sum of the first n natural numbers\n",
        "result = cube_sum_of_natural_numbers(n)\n",
        "\n",
        "# Display the result\n",
        "print(f\"The cube sum of the first {n} natural numbers is: {result}\")\n"
      ]
    },
    {
      "cell_type": "code",
      "source": [],
      "metadata": {
        "id": "s8NpeI_eh68U"
      },
      "execution_count": null,
      "outputs": []
    }
  ]
}