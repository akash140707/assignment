{
  "nbformat": 4,
  "nbformat_minor": 0,
  "metadata": {
    "colab": {
      "provenance": []
    },
    "kernelspec": {
      "name": "python3",
      "display_name": "Python 3"
    },
    "language_info": {
      "name": "python"
    }
  },
  "cells": [
    {
      "cell_type": "markdown",
      "source": [
        "1. Write a Python Program to Add two Matrices ?"
      ],
      "metadata": {
        "id": "QeM-i94lX0I4"
      }
    },
    {
      "cell_type": "code",
      "source": [
        "def addMatrices(a,b):\n",
        "    print(f'Inputs: {a},{b}')\n",
        "    if len(a) == len(b):\n",
        "        out_matrix = []\n",
        "        for ele in range(len(a)):\n",
        "            if len(a[ele]) == len(b[ele]):\n",
        "                out_matrix.append([])\n",
        "                for sub_ele in range(len(a[ele])):\n",
        "                    out_matrix[ele].append(a[ele][sub_ele]+b[ele][sub_ele])\n",
        "            else:\n",
        "                print('Both Matrices must contains same no of rows and columns')\n",
        "    else:\n",
        "        print('Both Matrices must contains same no of rows and columns')\n",
        "    print(f'Output: {out_matrix}')\n",
        "\n",
        "addMatrices([[1,2,3],[4,5,6],[7,8,9]],[[9,8,7],[6,5,4],[3,2,1]])\n",
        "addMatrices([[2,3,5],[1,1,1],[2,2,2]],[[4,3,5],[1,2,3],[3,2,1]])"
      ],
      "metadata": {
        "colab": {
          "base_uri": "https://localhost:8080/"
        },
        "id": "1_1R5uUxX281",
        "outputId": "53c60b23-01fb-46c0-d5f0-61d950f10e1e"
      },
      "execution_count": 1,
      "outputs": [
        {
          "output_type": "stream",
          "name": "stdout",
          "text": [
            "Inputs: [[1, 2, 3], [4, 5, 6], [7, 8, 9]],[[9, 8, 7], [6, 5, 4], [3, 2, 1]]\n",
            "Output: [[10, 10, 10], [10, 10, 10], [10, 10, 10]]\n",
            "Inputs: [[2, 3, 5], [1, 1, 1], [2, 2, 2]],[[4, 3, 5], [1, 2, 3], [3, 2, 1]]\n",
            "Output: [[6, 6, 10], [2, 3, 4], [5, 4, 3]]\n"
          ]
        }
      ]
    },
    {
      "cell_type": "markdown",
      "source": [
        "2. Write a Python Program to Multiply two Matrices ?"
      ],
      "metadata": {
        "id": "WBkj3IZbYGbw"
      }
    },
    {
      "cell_type": "code",
      "source": [
        "a = [[1,2,3],[4,5,6],[7,8,9]]\n",
        "b = [[1,4,7],[2,5,8],[3,6,9]]\n",
        "\n",
        "def multiply_matrice(a,b):\n",
        "    output = []\n",
        "    if len(a[0]) == len(b):\n",
        "        for ele in range(len(a[0])):\n",
        "            output.append([0 for ele in range(len(b[0]))])\n",
        "        for i in range(len(a)):\n",
        "            for j in range(len(b[0])):\n",
        "                for k in range(len(b)):\n",
        "                    output[i][j] += a[i][k]*b[k][j]\n",
        "        print(output)\n",
        "    else:\n",
        "        print('Matrix Multiplication is Not Possible')\n",
        "\n",
        "multiply_matrice(a,b)"
      ],
      "metadata": {
        "colab": {
          "base_uri": "https://localhost:8080/"
        },
        "id": "fxzxAju1X9bZ",
        "outputId": "b0e04e7b-bfe0-4b97-f2e8-4d8909319a6b"
      },
      "execution_count": 2,
      "outputs": [
        {
          "output_type": "stream",
          "name": "stdout",
          "text": [
            "[[14, 32, 50], [32, 77, 122], [50, 122, 194]]\n"
          ]
        }
      ]
    },
    {
      "cell_type": "markdown",
      "source": [
        "3. Write a Python Program to transpose a Matrix ?"
      ],
      "metadata": {
        "id": "9TpATJufYrdz"
      }
    },
    {
      "cell_type": "code",
      "source": [
        "a = [[1,2,3],[4,5,6],[7,8,9]]\n",
        "b = [[1,2],[4,5],[7,8]]\n",
        "c = [[1,2,3],[4,5,6]]\n",
        "\n",
        "def generate_transpose(in_matrix):\n",
        "    out_matrix = []\n",
        "    for ele in range(len(in_matrix[0])):\n",
        "        out_matrix.append([0 for i in range(len(in_matrix))])\n",
        "    for i in range(len(in_matrix)):\n",
        "        for j in range(len(in_matrix[i])):\n",
        "            out_matrix[j][i] = in_matrix[i][j]\n",
        "    print(f'{in_matrix} -> {out_matrix}')\n",
        "\n",
        "generate_transpose(a)\n",
        "generate_transpose(b)\n",
        "generate_transpose(c)"
      ],
      "metadata": {
        "colab": {
          "base_uri": "https://localhost:8080/"
        },
        "id": "3M53wTC3YJYG",
        "outputId": "925301a7-3b35-4cbc-c731-0625b2b2981f"
      },
      "execution_count": 3,
      "outputs": [
        {
          "output_type": "stream",
          "name": "stdout",
          "text": [
            "[[1, 2, 3], [4, 5, 6], [7, 8, 9]] -> [[1, 4, 7], [2, 5, 8], [3, 6, 9]]\n",
            "[[1, 2], [4, 5], [7, 8]] -> [[1, 4, 7], [2, 5, 8]]\n",
            "[[1, 2, 3], [4, 5, 6]] -> [[1, 4], [2, 5], [3, 6]]\n"
          ]
        }
      ]
    },
    {
      "cell_type": "markdown",
      "source": [
        "4. Write a Python Program to sort Words in an Alphabatical Order ?"
      ],
      "metadata": {
        "id": "DckRGVEKYwg4"
      }
    },
    {
      "cell_type": "code",
      "source": [
        "def sortString():\n",
        "    in_string = input(\"Enter a String: \").title()\n",
        "    sorted_list = sorted(in_string.split(' '))\n",
        "    print(' '.join(sorted_list))\n",
        "\n",
        "sortString()"
      ],
      "metadata": {
        "colab": {
          "base_uri": "https://localhost:8080/"
        },
        "id": "JYD1TN1mYt-G",
        "outputId": "f564344e-16e3-4567-b955-3f912c309d08"
      },
      "execution_count": 8,
      "outputs": [
        {
          "output_type": "stream",
          "name": "stdout",
          "text": [
            "Enter a String: my name akash tiwari\n",
            "Akash My Name Tiwari\n"
          ]
        }
      ]
    },
    {
      "cell_type": "markdown",
      "source": [
        "5. Write a Python Program to remove Punctuations From a String ?"
      ],
      "metadata": {
        "id": "UoF2EMFsZ94g"
      }
    },
    {
      "cell_type": "code",
      "source": [
        "def removePunctuatuions():\n",
        "    punctuations = '''!()-[]{};:'\"\\,<>./?@#$%^&*_~'''\n",
        "    in_string = input('Enter a String: ')\n",
        "    out_string = ''\n",
        "    for ele in in_string:\n",
        "        if ele not in punctuations:\n",
        "            out_string += ele\n",
        "    print(out_string)\n",
        "\n",
        "removePunctuatuions()"
      ],
      "metadata": {
        "colab": {
          "base_uri": "https://localhost:8080/"
        },
        "id": "lkOWNMIpYzE1",
        "outputId": "dd210990-5391-45ea-9bcd-c7f50e852531"
      },
      "execution_count": 9,
      "outputs": [
        {
          "output_type": "stream",
          "name": "stdout",
          "text": [
            "Enter a String: \"Full stack DS\" @ Ineuron\n",
            "Full stack DS  Ineuron\n"
          ]
        }
      ]
    },
    {
      "cell_type": "code",
      "source": [],
      "metadata": {
        "id": "w_6a6g0jaDHA"
      },
      "execution_count": null,
      "outputs": []
    }
  ]
}