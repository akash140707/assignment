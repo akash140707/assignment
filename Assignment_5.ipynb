{
  "nbformat": 4,
  "nbformat_minor": 0,
  "metadata": {
    "colab": {
      "provenance": []
    },
    "kernelspec": {
      "name": "python3",
      "display_name": "Python 3"
    },
    "language_info": {
      "name": "python"
    }
  },
  "cells": [
    {
      "cell_type": "markdown",
      "source": [
        "1. What does an empty dictionary's code look like?"
      ],
      "metadata": {
        "id": "eA4UAyEE2Bbp"
      }
    },
    {
      "cell_type": "markdown",
      "source": [
        "Ans:  d = {} or d = dict()"
      ],
      "metadata": {
        "id": "ZFJsA0Of2qLs"
      }
    },
    {
      "cell_type": "markdown",
      "source": [
        "2. What is the value of a dictionary value with the key 'foo' and the value 42?"
      ],
      "metadata": {
        "id": "s_mblEaW26WC"
      }
    },
    {
      "cell_type": "markdown",
      "source": [
        "Ans: {'foo':42}"
      ],
      "metadata": {
        "id": "JQF07OQM2_2S"
      }
    },
    {
      "cell_type": "markdown",
      "source": [
        "3. What is the most significant distinction between a dictionary and a list?"
      ],
      "metadata": {
        "id": "tKR5iu-93EJU"
      }
    },
    {
      "cell_type": "markdown",
      "source": [
        "Ans: Dictionaries are represented by {} where as listed are represented by []\n",
        "The Items stored in a dictionary are Unordered , while the items in a list are ordered"
      ],
      "metadata": {
        "id": "QeOzIzOl3NUj"
      }
    },
    {
      "cell_type": "markdown",
      "source": [
        "4. What happens if you try to access spam['foo'] if spam is {'bar': 100}?"
      ],
      "metadata": {
        "id": "Pow1uzn93Zud"
      }
    },
    {
      "cell_type": "markdown",
      "source": [
        "Ans: we will get a keyError KeyError: 'foo'"
      ],
      "metadata": {
        "id": "osyjCRvq3f-5"
      }
    },
    {
      "cell_type": "markdown",
      "source": [
        "5. If a dictionary is stored in spam, what is the difference between the expressions 'cat' in spam and 'cat' in spam.keys()?"
      ],
      "metadata": {
        "id": "TWA65wC73kbQ"
      }
    },
    {
      "cell_type": "markdown",
      "source": [
        "Ans: There is no difference . The operator checks whether a value exits as a key in the dictionary or not"
      ],
      "metadata": {
        "id": "YriLTaYV3x5R"
      }
    },
    {
      "cell_type": "markdown",
      "source": [
        "6. If a dictionary is stored in spam, what is the difference between the expressions 'cat' in spam and 'cat' in spam.values()?"
      ],
      "metadata": {
        "id": "0LxHux8938Uu"
      }
    },
    {
      "cell_type": "markdown",
      "source": [
        "Ans:'cat' in spam checks whether there is a 'cat' key in the dictionary, while 'cat' in spam.values() checks whether there is a value 'cat' for one of the keys in spam."
      ],
      "metadata": {
        "id": "peNfyTPF4IBJ"
      }
    },
    {
      "cell_type": "markdown",
      "source": [
        "7. What is a shortcut for the following code?\n",
        "\n",
        "if 'color' not in spam:\n",
        "\n",
        "spam['color'] = 'black'\n"
      ],
      "metadata": {
        "id": "Tpjdfy0Q4O0Q"
      }
    },
    {
      "cell_type": "markdown",
      "source": [
        "Ans: spam.setdefault('color' , 'black')"
      ],
      "metadata": {
        "id": "y74CenxB4aD0"
      }
    },
    {
      "cell_type": "markdown",
      "source": [
        "8. How do you \"pretty print\" dictionary values using which module and function?"
      ],
      "metadata": {
        "id": "7phpiTlC4mT3"
      }
    },
    {
      "cell_type": "markdown",
      "source": [
        "Ans: we can pretty print a dictionary using three functions\n",
        "\n",
        "1. by using pprint() function of pprint module\n",
        "\n",
        ">Note: pprint() function doesnot prettify nested dictionaries\n",
        "\n",
        "2. by using dumps() method of json module\n",
        "\n",
        "3. by using dump() method of yaml module"
      ],
      "metadata": {
        "id": "ix85rVdc5Mr1"
      }
    },
    {
      "cell_type": "code",
      "execution_count": 1,
      "metadata": {
        "colab": {
          "base_uri": "https://localhost:8080/"
        },
        "id": "t9yVOBoT15xm",
        "outputId": "e1e5a12d-2099-4385-ef0a-ba3fb6d05871"
      },
      "outputs": [
        {
          "output_type": "stream",
          "name": "stdout",
          "text": [
            "Printing using print() function\n",
            " [{'Name': 'John', 'Age': '23', 'Residence': {'Country': 'USA', 'City': 'New York'}}, {'Name': 'Jose', 'Age': '44', 'Residence': {'Country': 'Spain', 'City': 'Madrid'}}, {'Name': 'Anne', 'Age': '29', 'Residence': {'Country': 'UK', 'City': 'England'}}, {'Name': 'Lee', 'Age': '35', 'Residence': {'Country': 'Japan', 'City': 'Osaka'}}]\n",
            "----------------------------------------------------------------------\n",
            "Printing using pprint() funciton\n",
            "[{'Age': '23',\n",
            "  'Name': 'John',\n",
            "  'Residence': {'City': 'New York', 'Country': 'USA'}},\n",
            " {'Age': '44',\n",
            "  'Name': 'Jose',\n",
            "  'Residence': {'City': 'Madrid', 'Country': 'Spain'}},\n",
            " {'Age': '29',\n",
            "  'Name': 'Anne',\n",
            "  'Residence': {'City': 'England', 'Country': 'UK'}},\n",
            " {'Age': '35',\n",
            "  'Name': 'Lee',\n",
            "  'Residence': {'City': 'Osaka', 'Country': 'Japan'}}]\n",
            "----------------------------------------------------------------------\n",
            "Printing using dumps() method\n",
            " [\n",
            "    {\n",
            "        \"Name\": \"John\",\n",
            "        \"Age\": \"23\",\n",
            "        \"Residence\": {\n",
            "            \"Country\": \"USA\",\n",
            "            \"City\": \"New York\"\n",
            "        }\n",
            "    },\n",
            "    {\n",
            "        \"Name\": \"Jose\",\n",
            "        \"Age\": \"44\",\n",
            "        \"Residence\": {\n",
            "            \"Country\": \"Spain\",\n",
            "            \"City\": \"Madrid\"\n",
            "        }\n",
            "    },\n",
            "    {\n",
            "        \"Name\": \"Anne\",\n",
            "        \"Age\": \"29\",\n",
            "        \"Residence\": {\n",
            "            \"Country\": \"UK\",\n",
            "            \"City\": \"England\"\n",
            "        }\n",
            "    },\n",
            "    {\n",
            "        \"Name\": \"Lee\",\n",
            "        \"Age\": \"35\",\n",
            "        \"Residence\": {\n",
            "            \"Country\": \"Japan\",\n",
            "            \"City\": \"Osaka\"\n",
            "        }\n",
            "    }\n",
            "]\n",
            "----------------------------------------------------------------------\n",
            "Printing using dump() method\n",
            " - Age: '23'\n",
            "  Name: John\n",
            "  Residence:\n",
            "    City: New York\n",
            "    Country: USA\n",
            "- Age: '44'\n",
            "  Name: Jose\n",
            "  Residence:\n",
            "    City: Madrid\n",
            "    Country: Spain\n",
            "- Age: '29'\n",
            "  Name: Anne\n",
            "  Residence:\n",
            "    City: England\n",
            "    Country: UK\n",
            "- Age: '35'\n",
            "  Name: Lee\n",
            "  Residence:\n",
            "    City: Osaka\n",
            "    Country: Japan\n",
            "\n"
          ]
        }
      ],
      "source": [
        "ndict = [\n",
        "  {'Name': 'John', 'Age': '23', 'Residence': {'Country':'USA', 'City': 'New York'}},\n",
        "  {'Name': 'Jose', 'Age': '44', 'Residence': {'Country':'Spain', 'City': 'Madrid'}},\n",
        "  {'Name': 'Anne', 'Age': '29', 'Residence': {'Country':'UK', 'City': 'England'}},\n",
        "  {'Name': 'Lee', 'Age': '35', 'Residence': {'Country':'Japan', 'City': 'Osaka'}}\n",
        "]\n",
        "\n",
        "print('Printing using print() function\\n',ndict)\n",
        "print('-'*70)\n",
        "import pprint\n",
        "print('Printing using pprint() funciton')\n",
        "pprint.pprint(ndict)\n",
        "print('-'*70)\n",
        "import json\n",
        "dump = json.dumps(ndict, indent=4)\n",
        "print('Printing using dumps() method\\n', dump)\n",
        "print('-'*70)\n",
        "import yaml\n",
        "dump = yaml.dump(ndict)\n",
        "print('Printing using dump() method\\n', dump)"
      ]
    }
  ]
}