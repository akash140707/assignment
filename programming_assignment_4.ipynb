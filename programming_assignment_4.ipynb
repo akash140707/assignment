{
  "nbformat": 4,
  "nbformat_minor": 0,
  "metadata": {
    "colab": {
      "provenance": []
    },
    "kernelspec": {
      "name": "python3",
      "display_name": "Python 3"
    },
    "language_info": {
      "name": "python"
    }
  },
  "cells": [
    {
      "cell_type": "markdown",
      "source": [
        "1. Write a Python Program to Find the Factorial of a Number?"
      ],
      "metadata": {
        "id": "Bsdzbx__esE3"
      }
    },
    {
      "cell_type": "code",
      "execution_count": 1,
      "metadata": {
        "colab": {
          "base_uri": "https://localhost:8080/"
        },
        "id": "y42epStKd3_S",
        "outputId": "7916dde8-4704-4623-c1ac-769436a2a3f3"
      },
      "outputs": [
        {
          "output_type": "stream",
          "name": "stdout",
          "text": [
            "Enter a number: 4\n",
            "The factorial of 4 is 24\n"
          ]
        }
      ],
      "source": [
        "def factorial(n):\n",
        "    if n == 0 or n == 1:\n",
        "        return 1\n",
        "    else:\n",
        "        return n * factorial(n - 1)\n",
        "\n",
        "# Get input from the user\n",
        "num = int(input(\"Enter a number: \"))\n",
        "\n",
        "# Calculate the factorial\n",
        "fact = factorial(num)\n",
        "\n",
        "# Display the factorial\n",
        "print(f\"The factorial of {num} is {fact}\")\n"
      ]
    },
    {
      "cell_type": "markdown",
      "source": [
        "2. Write a Python Program to Display the multiplication Table?"
      ],
      "metadata": {
        "id": "pHuFKi4ZgQHb"
      }
    },
    {
      "cell_type": "code",
      "source": [
        "def multiplication_table(number,limit):\n",
        "  for i in range(1, limit +1):\n",
        "    result = number * i\n",
        "    print(f\"{number} x {i} = {result}\")\n",
        "\n",
        "num = int(input(\"Enter the a number for table: \"))\n",
        "table_limit = int(input(\"Enter the a number for table_limit: \"))\n",
        "\n",
        "print(f\"Multiplication table of {num} up to {table_limit} \")\n",
        "multiplication_table(num,table_limit)\n",
        "\n"
      ],
      "metadata": {
        "colab": {
          "base_uri": "https://localhost:8080/"
        },
        "id": "16b5-elgeuAA",
        "outputId": "6e5e6871-cfae-473d-fb80-55f9cef14eda"
      },
      "execution_count": 3,
      "outputs": [
        {
          "output_type": "stream",
          "name": "stdout",
          "text": [
            "Enter the a number for table: 2\n",
            "Enter the a number for table_limit: 9\n",
            "Multiplication table of 2 up to 9 \n",
            "2 x 1 = 2\n",
            "2 x 2 = 4\n",
            "2 x 3 = 6\n",
            "2 x 4 = 8\n",
            "2 x 5 = 10\n",
            "2 x 6 = 12\n",
            "2 x 7 = 14\n",
            "2 x 8 = 16\n",
            "2 x 9 = 18\n"
          ]
        }
      ]
    },
    {
      "cell_type": "markdown",
      "source": [
        "3. Write a Python Program to Print the Fibonacci sequence?"
      ],
      "metadata": {
        "id": "lfi8KdUhjpb4"
      }
    },
    {
      "cell_type": "code",
      "source": [
        "def fibonacci_sequence(n):\n",
        "    fib_sequence = [0, 1]\n",
        "    for i in range(2, n):\n",
        "        next_term = fib_sequence[i - 1] + fib_sequence[i - 2]\n",
        "        fib_sequence.append(next_term)\n",
        "    return fib_sequence\n",
        "\n",
        "# Get input from the user\n",
        "num_terms = int(input(\"Enter the number of terms in the Fibonacci sequence: \"))\n",
        "\n",
        "# Generate and print the Fibonacci sequence\n",
        "fibonacci_seq = fibonacci_sequence(num_terms)\n",
        "print(\"Fibonacci sequence:\")\n",
        "for term in fibonacci_seq:\n",
        "    print(term, end=\" \")\n"
      ],
      "metadata": {
        "colab": {
          "base_uri": "https://localhost:8080/"
        },
        "id": "2KBtGMCMiu2c",
        "outputId": "311f9294-0c4d-422b-c82e-a32c9e234f9c"
      },
      "execution_count": 4,
      "outputs": [
        {
          "output_type": "stream",
          "name": "stdout",
          "text": [
            "Enter the number of terms in the Fibonacci sequence: 123\n",
            "Fibonacci sequence:\n",
            "0 1 1 2 3 5 8 13 21 34 55 89 144 233 377 610 987 1597 2584 4181 6765 10946 17711 28657 46368 75025 121393 196418 317811 514229 832040 1346269 2178309 3524578 5702887 9227465 14930352 24157817 39088169 63245986 102334155 165580141 267914296 433494437 701408733 1134903170 1836311903 2971215073 4807526976 7778742049 12586269025 20365011074 32951280099 53316291173 86267571272 139583862445 225851433717 365435296162 591286729879 956722026041 1548008755920 2504730781961 4052739537881 6557470319842 10610209857723 17167680177565 27777890035288 44945570212853 72723460248141 117669030460994 190392490709135 308061521170129 498454011879264 806515533049393 1304969544928657 2111485077978050 3416454622906707 5527939700884757 8944394323791464 14472334024676221 23416728348467685 37889062373143906 61305790721611591 99194853094755497 160500643816367088 259695496911122585 420196140727489673 679891637638612258 1100087778366101931 1779979416004714189 2880067194370816120 4660046610375530309 7540113804746346429 12200160415121876738 19740274219868223167 31940434634990099905 51680708854858323072 83621143489848422977 135301852344706746049 218922995834555169026 354224848179261915075 573147844013817084101 927372692193078999176 1500520536206896083277 2427893228399975082453 3928413764606871165730 6356306993006846248183 10284720757613717413913 16641027750620563662096 26925748508234281076009 43566776258854844738105 70492524767089125814114 114059301025943970552219 184551825793033096366333 298611126818977066918552 483162952612010163284885 781774079430987230203437 1264937032042997393488322 2046711111473984623691759 3311648143516982017180081 5358359254990966640871840 8670007398507948658051921 14028366653498915298923761 "
          ]
        }
      ]
    },
    {
      "cell_type": "markdown",
      "source": [
        "4. Write a Python Program to Check Armstrong Number?"
      ],
      "metadata": {
        "id": "rAx7Xv_Oj9Jy"
      }
    },
    {
      "cell_type": "code",
      "source": [
        "def is_armstrong_number(number):\n",
        "    num_str = str(number)\n",
        "    num_digits = len(num_str)\n",
        "    total = 0\n",
        "    for digit_str in num_str:\n",
        "        digit = int(digit_str)\n",
        "        total += digit ** num_digits\n",
        "    return total == number\n",
        "\n",
        "# Get input from the user\n",
        "num = int(input(\"Enter a number: \"))\n",
        "\n",
        "# Check if the number is an Armstrong number\n",
        "if is_armstrong_number(num):\n",
        "    print(f\"{num} is an Armstrong number.\")\n",
        "else:\n",
        "    print(f\"{num} is not an Armstrong number.\")\n"
      ],
      "metadata": {
        "colab": {
          "base_uri": "https://localhost:8080/"
        },
        "id": "yRNfAiSwjtPk",
        "outputId": "2034b597-7c9b-49db-e28b-d8a880a64902"
      },
      "execution_count": 9,
      "outputs": [
        {
          "output_type": "stream",
          "name": "stdout",
          "text": [
            "Enter a number: 1\n",
            "1 is an Armstrong number.\n"
          ]
        }
      ]
    },
    {
      "cell_type": "markdown",
      "source": [
        "5. Write a Python Program to Find Armstrong Number in an Interval?"
      ],
      "metadata": {
        "id": "vDcm7YMbkh05"
      }
    },
    {
      "cell_type": "code",
      "source": [
        "def is_armstrong_number(number):\n",
        "    num_str = str(number)\n",
        "    num_digits = len(num_str)\n",
        "    total = 0\n",
        "    for digit_str in num_str:\n",
        "        digit = int(digit_str)\n",
        "        total += digit ** num_digits\n",
        "    return total == number\n",
        "\n",
        "def find_armstrong_numbers(start, end):\n",
        "    armstrong_numbers = []\n",
        "    for num in range(start, end + 1):\n",
        "        if is_armstrong_number(num):\n",
        "            armstrong_numbers.append(num)\n",
        "    return armstrong_numbers\n",
        "\n",
        "# Get input from the user\n",
        "start_num = int(input(\"Enter the start of the interval: \"))\n",
        "end_num = int(input(\"Enter the end of the interval: \"))\n",
        "\n",
        "# Find and display Armstrong numbers in the interval\n",
        "armstrong_nums = find_armstrong_numbers(start_num, end_num)\n",
        "print(f\"Armstrong numbers in the interval {start_num} to {end_num}:\")\n",
        "print(armstrong_nums)\n"
      ],
      "metadata": {
        "colab": {
          "base_uri": "https://localhost:8080/"
        },
        "id": "xtcMJtW_kLy0",
        "outputId": "b0a6642b-61cd-4748-abe9-79eddca0ce31"
      },
      "execution_count": 7,
      "outputs": [
        {
          "output_type": "stream",
          "name": "stdout",
          "text": [
            "Enter the start of the interval: 1\n",
            "Enter the end of the interval: 100\n",
            "Armstrong numbers in the interval 1 to 100:\n",
            "[1, 2, 3, 4, 5, 6, 7, 8, 9]\n"
          ]
        }
      ]
    },
    {
      "cell_type": "markdown",
      "source": [
        "6. Write a Python Program to Find the Sum of Natural Numbers?"
      ],
      "metadata": {
        "id": "3bXyu-v2lD2h"
      }
    },
    {
      "cell_type": "code",
      "source": [
        "def sum_of_natural_numbers(n):\n",
        "    return (n * (n + 1)) // 2\n",
        "\n",
        "# Get input from the user\n",
        "limit = int(input(\"Enter the limit: \"))\n",
        "\n",
        "# Calculate the sum of natural numbers\n",
        "sum_natural = sum_of_natural_numbers(limit)\n",
        "\n",
        "# Display the sum\n",
        "print(f\"The sum of natural numbers up to {limit} is {sum_natural}\")\n"
      ],
      "metadata": {
        "colab": {
          "base_uri": "https://localhost:8080/"
        },
        "id": "kmGcOcHgkqGa",
        "outputId": "13157664-6405-4367-e447-c2b9c960c899"
      },
      "execution_count": 10,
      "outputs": [
        {
          "output_type": "stream",
          "name": "stdout",
          "text": [
            "Enter the limit: 8\n",
            "The sum of natural numbers up to 8 is 36\n"
          ]
        }
      ]
    },
    {
      "cell_type": "code",
      "source": [],
      "metadata": {
        "id": "3bqc1xvZlKiK"
      },
      "execution_count": null,
      "outputs": []
    }
  ]
}