{
  "nbformat": 4,
  "nbformat_minor": 0,
  "metadata": {
    "colab": {
      "provenance": []
    },
    "kernelspec": {
      "name": "python3",
      "display_name": "Python 3"
    },
    "language_info": {
      "name": "python"
    }
  },
  "cells": [
    {
      "cell_type": "markdown",
      "source": [
        "1. What is the result of the code, and why?\n",
        "\n",
        ">>> def func(a, b=6, c=8):\n",
        "\n",
        "print(a, b, c)\n",
        "\n",
        ">>> func(1, 2)\n",
        "\n",
        "**Ans:** The result of the above code is 1 2 8. its because the function uses the default value of c ie 8 which is provided at the time of declaration"
      ],
      "metadata": {
        "id": "Si7QjoEH_tBu"
      }
    },
    {
      "cell_type": "code",
      "execution_count": 1,
      "metadata": {
        "colab": {
          "base_uri": "https://localhost:8080/"
        },
        "id": "sjXQKyl6_lR7",
        "outputId": "3e7a1a12-632a-47a4-db34-12b3c8caf6ce"
      },
      "outputs": [
        {
          "output_type": "stream",
          "name": "stdout",
          "text": [
            "1 2 8\n"
          ]
        }
      ],
      "source": [
        "def func(a,b=6,c=8):\n",
        "    print(a,b,c)\n",
        "func(1,2)"
      ]
    },
    {
      "cell_type": "markdown",
      "source": [
        "2. What is the result of this code, and why?\n",
        "\n",
        ">>> def func(a, b, c=5):\n",
        "\n",
        "print(a, b, c)\n",
        "\n",
        ">>> func(1, c=3, b=2)\n",
        "\n",
        "**Ans:** The result of the above code is 1 2 3. it is because the function will use default values only when a value for a argument is not provided and if argument name is mentioned while doing a function call, the order of arguments is also ignored by the python interpreter"
      ],
      "metadata": {
        "id": "t8OsHzajAG-0"
      }
    },
    {
      "cell_type": "code",
      "source": [
        "def func(a,b,c=5):\n",
        "    print(a,b,c)\n",
        "func(1,c=3,b=2)"
      ],
      "metadata": {
        "colab": {
          "base_uri": "https://localhost:8080/"
        },
        "id": "zLvj-jsoABad",
        "outputId": "3f77f245-9305-408e-c789-d2d44bf62cdb"
      },
      "execution_count": 2,
      "outputs": [
        {
          "output_type": "stream",
          "name": "stdout",
          "text": [
            "1 2 3\n"
          ]
        }
      ]
    },
    {
      "cell_type": "markdown",
      "source": [
        "3. How about this code: what is its result, and why?\n",
        "\n",
        ">>> def func(a, *pargs):\n",
        "\n",
        "print(a, pargs)\n",
        "\n",
        ">>> func(1, 2, 3)\n",
        "\n",
        "**Ans:** The result of the code is 1 (2,3). *pargs stands for variable length arguments. this format is used when we are not sure about the no of arguments to be passed to a function. all the values under this argument will be stored in a tuple."
      ],
      "metadata": {
        "id": "5Oih_55vAiWB"
      }
    },
    {
      "cell_type": "code",
      "source": [
        "def func(a, *pargs):\n",
        "    print(a,pargs)\n",
        "func(1,2,3)"
      ],
      "metadata": {
        "colab": {
          "base_uri": "https://localhost:8080/"
        },
        "id": "QEtuXpepAaRk",
        "outputId": "779101be-2c7d-455d-b87f-cdc40bc9c35c"
      },
      "execution_count": 3,
      "outputs": [
        {
          "output_type": "stream",
          "name": "stdout",
          "text": [
            "1 (2, 3)\n"
          ]
        }
      ]
    },
    {
      "cell_type": "markdown",
      "source": [
        "4. What does this code print, and why?\n",
        "\n",
        ">>> def func(a, **kargs):\n",
        "\n",
        "print(a, kargs)\n",
        "\n",
        ">>> func(a=1, c=3, b=2)\n",
        "\n",
        "**Ans:** The result of the above code is 1 {'c': 3, 'b': 2}. **args stands for variable length keyword arguments. this format is used when we want pass key value pairs as input to a function. All these key value pairs will be stored in a dictionary"
      ],
      "metadata": {
        "id": "ugrFNZFdA30d"
      }
    },
    {
      "cell_type": "code",
      "source": [
        "def func(a,**kargs):\n",
        "    print(a,kargs)\n",
        "func(a=1,c=3,b=2)"
      ],
      "metadata": {
        "colab": {
          "base_uri": "https://localhost:8080/"
        },
        "id": "zTfJNGisA1N8",
        "outputId": "d14ded85-93c6-460f-a4a0-7eaaef62d971"
      },
      "execution_count": 4,
      "outputs": [
        {
          "output_type": "stream",
          "name": "stdout",
          "text": [
            "1 {'c': 3, 'b': 2}\n"
          ]
        }
      ]
    },
    {
      "cell_type": "markdown",
      "source": [
        "5. What gets printed by this, and explain?\n",
        "\n",
        ">>> def func(a, b, c=8, d=5): print(a, b, c, d)\n",
        "\n",
        ">>> func(1, *(5, 6))\n",
        "\n",
        "**Ans:** The output of the above is 1 5 6 5. This reason for this function not throwing an error is because, this function expects 4 arguments. the value for a is provided explicitly whereas for arguments b and c, the function will expand the *(5,6) and consider the value of b as 5 and value of c as 6. since the default value of d is provided in function declaration d value will be 5. However it is recommended to use the feature of positional arguments at the end."
      ],
      "metadata": {
        "id": "2dyV698zBRT7"
      }
    },
    {
      "cell_type": "code",
      "source": [
        "def func(a,b,c=8,d=5):\n",
        "    print(a,b,c,d)\n",
        "func(1,*(5,6))"
      ],
      "metadata": {
        "colab": {
          "base_uri": "https://localhost:8080/"
        },
        "id": "JekrSXctA_OV",
        "outputId": "02a6242a-242c-4455-fc70-ce756a46969a"
      },
      "execution_count": 5,
      "outputs": [
        {
          "output_type": "stream",
          "name": "stdout",
          "text": [
            "1 5 6 5\n"
          ]
        }
      ]
    },
    {
      "cell_type": "markdown",
      "source": [
        "6. what is the result of this, and explain?\n",
        "\n",
        ">>> def func(a, b, c): a = 2; b[0] = 'x'; c['a'] = 'y'\n",
        "\n",
        ">>> l=1; m=[1]; n={'a':0}\n",
        "\n",
        ">>> func(l, m, n)\n",
        "\n",
        ">>> l, m, n\n",
        "\n",
        "**Ans:** The output of above code is 1, ['x'], {'a': 'y'}.\n",
        "\n",
        "Eventhough Python gives importance to indentation. its provides a facility to declare an entire function in one single line. where statements in a function body are sepereated by ;\n",
        "When l,m,n are provided as inputs to the function. its modifies the values of l,m,n and sets the value of l=2 ,m=['x'] and n={'a':'y'}"
      ],
      "metadata": {
        "id": "nUA9JObsBgE7"
      }
    },
    {
      "cell_type": "code",
      "source": [
        "def func(a, b, c): a = 2; b[0] = 'x'; c['a'] = 'y'\n",
        "l=1; m=[1]; n={'a':0}\n",
        "func(l, m, n)\n",
        "l,m,n"
      ],
      "metadata": {
        "colab": {
          "base_uri": "https://localhost:8080/"
        },
        "id": "sra_YhYHBdbF",
        "outputId": "b4986ad0-a445-4f8a-c73c-7edb3d444e73"
      },
      "execution_count": 6,
      "outputs": [
        {
          "output_type": "execute_result",
          "data": {
            "text/plain": [
              "(1, ['x'], {'a': 'y'})"
            ]
          },
          "metadata": {},
          "execution_count": 6
        }
      ]
    },
    {
      "cell_type": "code",
      "source": [],
      "metadata": {
        "id": "Z56sVqBPBwsY"
      },
      "execution_count": null,
      "outputs": []
    }
  ]
}