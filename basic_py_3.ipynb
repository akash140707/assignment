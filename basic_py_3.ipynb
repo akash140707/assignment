{
  "nbformat": 4,
  "nbformat_minor": 0,
  "metadata": {
    "colab": {
      "provenance": []
    },
    "kernelspec": {
      "name": "python3",
      "display_name": "Python 3"
    },
    "language_info": {
      "name": "python"
    }
  },
  "cells": [
    {
      "cell_type": "markdown",
      "source": [
        "Question: 1\n",
        "        \n",
        "         Why are functions advantageous to have in your programs?\n",
        "\n",
        "Answer\n",
        "\n",
        "        Function is reduce the need for duplicate code, this make program shorter,easier to read and update.\n",
        "\n",
        "\n",
        "---\n",
        "\n",
        "\n",
        "\n",
        "---\n",
        "\n"
      ],
      "metadata": {
        "id": "quZR9NNHxnrd"
      }
    },
    {
      "cell_type": "markdown",
      "source": [
        "Question: 2\n",
        "        \n",
        "          When does the code in a function run: when it's specified or when it's called?\n",
        "\n",
        "Answer:\n",
        "\n",
        "        The code in a function will execute when the function called not when the function will specified.\n",
        " \n",
        "\n",
        "---\n",
        "\n",
        "\n",
        "\n",
        "---\n",
        "\n"
      ],
      "metadata": {
        "id": "6NZvHESO1LyP"
      }
    },
    {
      "cell_type": "markdown",
      "source": [
        "Question: 3\n",
        "\n",
        "            What statement creates a function?\n",
        "\n",
        "Answer:\n",
        "       \n",
        "       The def statement defines, i.e creat a function.\n",
        "\n",
        "\n",
        "---\n",
        "\n",
        "\n",
        "\n",
        "---\n",
        "\n",
        "\n"
      ],
      "metadata": {
        "id": "tYrGZwOH3t04"
      }
    },
    {
      "cell_type": "markdown",
      "source": [
        "Question: 4 \n",
        "\n",
        "            What is the difference between a function and a function call?\n",
        "\n",
        "Answer:\n",
        "\n",
        "       A function consists of the def statement and the code in its def clause. A function call is what moves the program execution into the function, and the function call evaluates to the function's return value.\n",
        "---\n",
        "\n",
        "\n"
      ],
      "metadata": {
        "id": "_eI3GBsF45Ro"
      }
    },
    {
      "cell_type": "markdown",
      "source": [
        "Question: 5\n",
        "\n",
        "           How many global scopes are there in a Python program? How many local scopes?\n",
        "\n",
        "Answer:\n",
        "\n",
        "        There is one global scope, and a local scope is created whenever a function is called.\n",
        "\n",
        "\n",
        "---\n",
        "\n",
        "\n",
        "\n",
        "---\n",
        "\n"
      ],
      "metadata": {
        "id": "uFQkwuRe7ozT"
      }
    },
    {
      "cell_type": "markdown",
      "source": [
        "Question:6\n",
        "\n",
        "           What happens to variables in a local scope when the function call returns?\n",
        "\n",
        "Answer:\n",
        "\n",
        "           When a function returns, the local scope is destroyed, and all the variables in it are forgotten.\n",
        "\n",
        "\n",
        "---\n",
        "\n",
        "\n",
        "\n",
        "---\n",
        "\n"
      ],
      "metadata": {
        "id": "4D6wk6228OFP"
      }
    },
    {
      "cell_type": "markdown",
      "source": [
        "Question: 7\n",
        "\n",
        "           What is the concept of a return value? Is it possible to have a return value in an expression?\n",
        "\n",
        "Answer:\n",
        "\n",
        "           A return value is the value that a function call evaluates to. Like any value, a return value can be used as part of an expression.\n",
        "\n",
        "\n",
        "---\n",
        "\n",
        "\n",
        "\n",
        "---\n",
        "\n"
      ],
      "metadata": {
        "id": "KyhBHiG58tbB"
      }
    },
    {
      "cell_type": "markdown",
      "source": [
        "Question: 8\n",
        "\n",
        "            If a function does not have a return statement, what is the return value of a call to that function?\n",
        "\n",
        "Answer:\n",
        "\n",
        "        If there is no return statement for a function, its return value is None.\n",
        "\n",
        "\n",
        "---\n",
        "\n",
        "\n",
        "\n",
        "---\n",
        "\n",
        "\n",
        "\n"
      ],
      "metadata": {
        "id": "912AfdsW9O-u"
      }
    },
    {
      "cell_type": "markdown",
      "source": [
        "Question: 9\n",
        "\n",
        "             How do you make a function variable refer to the global variable?\n",
        "\n",
        "Answer:\n",
        "\n",
        "          A global statement will force a variable in a function to refer to the global variable.\n",
        "\n",
        "\n",
        "---\n",
        "\n",
        "\n",
        "\n",
        "---\n",
        "\n"
      ],
      "metadata": {
        "id": "gv8oOobj9uGy"
      }
    },
    {
      "cell_type": "markdown",
      "source": [
        "Question: 10\n",
        "\n",
        "           What is the data type of None?\n",
        "\n",
        "Answer:\n",
        "\n",
        "          The data type of None is NoneType.\n",
        "\n",
        "\n",
        "---\n",
        "\n",
        "\n",
        "\n",
        "---\n",
        "\n"
      ],
      "metadata": {
        "id": "YdVFOuSP-Nb1"
      }
    },
    {
      "cell_type": "markdown",
      "source": [
        "Question: 11\n",
        "\n",
        "             What does the sentence import areallyourpetsnamederic do?\n",
        "\n",
        "Answer:\n",
        "\n",
        "        That import statement imports a module named areallyourpetsnamederic.\n",
        "\n",
        "\n",
        "---\n",
        "\n",
        "\n",
        "\n",
        "---\n",
        "\n"
      ],
      "metadata": {
        "id": "CNsE2F6j-hyW"
      }
    },
    {
      "cell_type": "markdown",
      "source": [
        "Question: 12\n",
        "\n",
        "            If you had a bacon() feature in a spam module, what would you call it after importing spam?\n",
        "\n",
        "Answer:\n",
        "\n",
        "       This function can be called with spam.bacon().\n",
        "\n",
        "\n",
        "---\n",
        "\n",
        "\n",
        "\n",
        "---\n",
        "\n"
      ],
      "metadata": {
        "id": "kplpROm7-6Rl"
      }
    },
    {
      "cell_type": "markdown",
      "source": [
        "Question: 13\n",
        "\n",
        "             What can you do to save a programme from crashing if it encounters an error?\n",
        "\n",
        "Answer:\n",
        "\n",
        "       Place the line of code that might cause an error in a try clause.\n",
        "\n",
        "\n",
        "---\n",
        "\n",
        "\n",
        "\n",
        "---\n",
        "\n"
      ],
      "metadata": {
        "id": "gf2GcWEe_Mgz"
      }
    },
    {
      "cell_type": "markdown",
      "source": [
        "Question: 14\n",
        "\n",
        "             What is the purpose of the try clause? What is the purpose of the except clause?\n",
        "\n",
        "Answer:\n",
        "\n",
        "       The code that could potentially cause an error goes in the try clause.\n",
        "\n",
        "-The code that executes if an error happens goes in the except clause.\n",
        "\n",
        "\n",
        "---\n",
        "\n",
        "\n",
        "\n",
        "---\n",
        "\n"
      ],
      "metadata": {
        "id": "h0XJw5o1_kYA"
      }
    },
    {
      "cell_type": "code",
      "source": [],
      "metadata": {
        "id": "V4STKugn1LhT"
      },
      "execution_count": null,
      "outputs": []
    },
    {
      "cell_type": "code",
      "source": [
        "\n",
        "        \n"
      ],
      "metadata": {
        "id": "mRhrxBOAxrO0"
      },
      "execution_count": null,
      "outputs": []
    }
  ]
}