{
  "nbformat": 4,
  "nbformat_minor": 0,
  "metadata": {
    "colab": {
      "provenance": []
    },
    "kernelspec": {
      "name": "python3",
      "display_name": "Python 3"
    },
    "language_info": {
      "name": "python"
    }
  },
  "cells": [
    {
      "cell_type": "markdown",
      "source": [
        "1.Write a Python Program to find sum of elements in a list ?"
      ],
      "metadata": {
        "id": "0KUHTw2fcsKG"
      }
    },
    {
      "cell_type": "code",
      "execution_count": 1,
      "metadata": {
        "id": "dkZ7z0geoWGS",
        "colab": {
          "base_uri": "https://localhost:8080/"
        },
        "outputId": "ea5373b0-55a9-4619-f28b-5cafaa0b74c7"
      },
      "outputs": [
        {
          "output_type": "stream",
          "name": "stdout",
          "text": [
            "Enter the No of Entries in a List: 5\n",
            "Enter a element: 6\n",
            "Enter a element: 7\n",
            "Enter a element: 9\n",
            "Enter a element: 8\n",
            "Enter a element: 3\n",
            "Sum of Elements: 33\n"
          ]
        }
      ],
      "source": [
        "def sumofList():\n",
        "    in_ele = int(input('Enter the No of Entries in a List: '))\n",
        "    in_list = []\n",
        "    for itr in range(in_ele):\n",
        "        in_list.append(int(input('Enter a element: ')))\n",
        "    print(f'Sum of Elements: {sum(in_list)}')\n",
        "\n",
        "sumofList()"
      ]
    },
    {
      "cell_type": "markdown",
      "source": [
        "2.Write a Python Program to multiply all numbers in the list ?"
      ],
      "metadata": {
        "id": "Q5ObPjo7dtwY"
      }
    },
    {
      "cell_type": "code",
      "source": [
        "def mulofList():\n",
        "    in_ele = int(input('Enter the No of Entries in a List: '))\n",
        "    in_list = []\n",
        "    mul = 1\n",
        "    for itr in range(in_ele):\n",
        "        in_list.append(int(input('Enter a element: ')))\n",
        "    for ele in in_list:\n",
        "        mul = mul * ele\n",
        "    print(mul)\n",
        "\n",
        "mulofList()"
      ],
      "metadata": {
        "id": "VmxOdir3cxYj",
        "colab": {
          "base_uri": "https://localhost:8080/"
        },
        "outputId": "6b691b8c-fb00-4c68-a85f-8946e7288301"
      },
      "execution_count": 3,
      "outputs": [
        {
          "output_type": "stream",
          "name": "stdout",
          "text": [
            "Enter the No of Entries in a List: 5\n",
            "Enter a element: 1\n",
            "Enter a element: 2\n",
            "Enter a element: 3\n",
            "Enter a element: 4\n",
            "Enter a element: 5\n",
            "120\n"
          ]
        }
      ]
    },
    {
      "cell_type": "markdown",
      "source": [
        "3.Write a Python Program to find smallest number in the list ?"
      ],
      "metadata": {
        "id": "jE8v6if3eGzu"
      }
    },
    {
      "cell_type": "code",
      "source": [
        "def smallEleInList():\n",
        "    in_ele = int(input('Enter the No of elements in a list: '))\n",
        "    in_list = []\n",
        "    for ele in range(in_ele):\n",
        "        in_list.append(int(input('Enter a Element: ')))\n",
        "    print(f'The Smallest Element in {in_list} is {sorted(in_list)[0]}')\n",
        "smallEleInList()"
      ],
      "metadata": {
        "colab": {
          "base_uri": "https://localhost:8080/"
        },
        "id": "xdadMQYLeFuI",
        "outputId": "42d660da-750a-42fd-8f41-7f52d0d71664"
      },
      "execution_count": 5,
      "outputs": [
        {
          "output_type": "stream",
          "name": "stdout",
          "text": [
            "Enter the No of elements in a list: 5\n",
            "Enter a Element: 23\n",
            "Enter a Element: 45\n",
            "Enter a Element: 67\n",
            "Enter a Element: 9\n",
            "Enter a Element: 34\n",
            "The Smallest Element in [23, 45, 67, 9, 34] is 9\n"
          ]
        }
      ]
    },
    {
      "cell_type": "markdown",
      "source": [
        "4.Write a Python Program to find largest number in the list ?"
      ],
      "metadata": {
        "id": "LUI_iCoTeOlx"
      }
    },
    {
      "cell_type": "code",
      "source": [
        "def largestEleInList():\n",
        "    in_ele = int(input('Enter the No of elements in a list: '))\n",
        "    in_list = []\n",
        "    for ele in range(in_ele):\n",
        "        in_list.append(int(input('Enter a Element: ')))\n",
        "    print(f'The Largest Element in {in_list} is {sorted(in_list, reverse=True)[0]}')\n",
        "\n",
        "largestEleInList()"
      ],
      "metadata": {
        "colab": {
          "base_uri": "https://localhost:8080/"
        },
        "id": "w_mG_gWleJiv",
        "outputId": "2fe78d51-8f85-4e1f-b09f-c62cc9e465ff"
      },
      "execution_count": 6,
      "outputs": [
        {
          "output_type": "stream",
          "name": "stdout",
          "text": [
            "Enter the No of elements in a list: 5\n",
            "Enter a Element: 23\n",
            "Enter a Element: 45\n",
            "Enter a Element: 56\n",
            "Enter a Element: 7\n",
            "Enter a Element: 78\n",
            "The Largest Element in [23, 45, 56, 7, 78] is 78\n"
          ]
        }
      ]
    },
    {
      "cell_type": "markdown",
      "source": [
        "5.Write a Python Program to find second largest number in the list ?"
      ],
      "metadata": {
        "id": "SdQ7pE-7eXzC"
      }
    },
    {
      "cell_type": "code",
      "source": [
        "def secondLargestEleInList():\n",
        "    in_ele = int(input('Enter the No of elements in a list: '))\n",
        "    in_list = []\n",
        "    for ele in range(in_ele):\n",
        "        in_list.append(int(input('Enter a Element: ')))\n",
        "    print(f'The Second Largest Element in {in_list} is {sorted(in_list, reverse=True)[1]}')\n",
        "\n",
        "secondLargestEleInList()\n"
      ],
      "metadata": {
        "colab": {
          "base_uri": "https://localhost:8080/"
        },
        "id": "f-kZBAtGeRQ8",
        "outputId": "b0c286f7-d8ab-47e4-a5a1-dab4c33d6afa"
      },
      "execution_count": 7,
      "outputs": [
        {
          "output_type": "stream",
          "name": "stdout",
          "text": [
            "Enter the No of elements in a list: 5\n",
            "Enter a Element: 23\n",
            "Enter a Element: 45\n",
            "Enter a Element: 67\n",
            "Enter a Element: 45\n",
            "Enter a Element: 46\n",
            "The Second Largest Element in [23, 45, 67, 45, 46] is 46\n"
          ]
        }
      ]
    },
    {
      "cell_type": "markdown",
      "source": [
        "6.Write a Python Program to find N largest elements in the list ?"
      ],
      "metadata": {
        "id": "4FmMhvwJej4D"
      }
    },
    {
      "cell_type": "code",
      "source": [
        "def nLargestEleInList(k):\n",
        "    in_ele = int(input('Enter the No of elements in a list: '))\n",
        "    in_list = []\n",
        "    for ele in range(in_ele):\n",
        "        in_list.append(int(input('Enter a Element: ')))\n",
        "    print(f'The {k} Largest Element in {in_list} is {sorted(in_list, reverse=True)[0:k]}')\n",
        "\n",
        "nLargestEleInList(4)"
      ],
      "metadata": {
        "colab": {
          "base_uri": "https://localhost:8080/"
        },
        "id": "YYvE3qQfec5i",
        "outputId": "aaee8456-6efe-4c35-ece7-7ed71eee972e"
      },
      "execution_count": 8,
      "outputs": [
        {
          "output_type": "stream",
          "name": "stdout",
          "text": [
            "Enter the No of elements in a list: 5\n",
            "Enter a Element: 1\n",
            "Enter a Element: 2\n",
            "Enter a Element: 3\n",
            "Enter a Element: 4\n",
            "Enter a Element: 5\n",
            "The 4 Largest Element in [1, 2, 3, 4, 5] is [5, 4, 3, 2]\n"
          ]
        }
      ]
    },
    {
      "cell_type": "markdown",
      "source": [
        "7.Write a Python Program to find even numbers in the list ?"
      ],
      "metadata": {
        "id": "g5y2DCcVewbO"
      }
    },
    {
      "cell_type": "code",
      "source": [
        "def evenNoInList():\n",
        "    in_ele = int(input('Enter the No of elements in a list: '))\n",
        "    in_list = []\n",
        "    even_list = []\n",
        "    for ele in range(in_ele):\n",
        "        in_list.append(int(input('Enter a Element: ')))\n",
        "    for ele in in_list:\n",
        "        if ele%2 == 0:\n",
        "            even_list.append(ele)\n",
        "    print(f'The Even Elements in {in_list} are {even_list}')\n",
        "\n",
        "evenNoInList()"
      ],
      "metadata": {
        "colab": {
          "base_uri": "https://localhost:8080/"
        },
        "id": "c-udfE0Qelsa",
        "outputId": "bfe09ed2-cc15-4fd0-8871-7e131f937004"
      },
      "execution_count": 9,
      "outputs": [
        {
          "output_type": "stream",
          "name": "stdout",
          "text": [
            "Enter the No of elements in a list: 6\n",
            "Enter a Element: 1\n",
            "Enter a Element: 2\n",
            "Enter a Element: 3\n",
            "Enter a Element: 4\n",
            "Enter a Element: 5\n",
            "Enter a Element: 6\n",
            "The Even Elements in [1, 2, 3, 4, 5, 6] are [2, 4, 6]\n"
          ]
        }
      ]
    },
    {
      "cell_type": "markdown",
      "source": [
        "8.Write a Python Program to find odd numbers in the list ?"
      ],
      "metadata": {
        "id": "s0OfDSfte5qt"
      }
    },
    {
      "cell_type": "code",
      "source": [
        "def oddNoInList():\n",
        "    in_ele = int(input('Enter the No of elements in a list: '))\n",
        "    in_list = []\n",
        "    odd_list = []\n",
        "    for ele in range(in_ele):\n",
        "        in_list.append(int(input('Enter a Element: ')))\n",
        "    for ele in in_list:\n",
        "        if ele%2 != 0:\n",
        "            odd_list.append(ele)\n",
        "    print(f'The Even Elements in {in_list} are {odd_list}')\n",
        "\n",
        "oddNoInList()"
      ],
      "metadata": {
        "colab": {
          "base_uri": "https://localhost:8080/"
        },
        "id": "ZHG1IeH_eyv6",
        "outputId": "44e9f878-8d93-4407-e2aa-c11166bfbe21"
      },
      "execution_count": 10,
      "outputs": [
        {
          "output_type": "stream",
          "name": "stdout",
          "text": [
            "Enter the No of elements in a list: 6\n",
            "Enter a Element: 1\n",
            "Enter a Element: 2\n",
            "Enter a Element: 3\n",
            "Enter a Element: 4\n",
            "Enter a Element: 5\n",
            "Enter a Element: 6\n",
            "The Even Elements in [1, 2, 3, 4, 5, 6] are [1, 3, 5]\n"
          ]
        }
      ]
    },
    {
      "cell_type": "markdown",
      "source": [
        "9.Write a Python Program to remove empty list from list ?"
      ],
      "metadata": {
        "id": "pmaL8HLifCaZ"
      }
    },
    {
      "cell_type": "code",
      "source": [
        "def checkEmptyList():\n",
        "    in_list = eval(input('Enter all elements of the list: '))\n",
        "    if [] in in_list:\n",
        "        print(f'There is an Empty list in {in_list} at Position {in_list.index([])}')\n",
        "        in_list.remove([])\n",
        "        print(f'The List after removing [] is {in_list}')\n",
        "    else:\n",
        "        print(f'There is no [] List in the list {in_list}')\n",
        "\n",
        "checkEmptyList()"
      ],
      "metadata": {
        "colab": {
          "base_uri": "https://localhost:8080/"
        },
        "id": "vmsu0dale739",
        "outputId": "d881f858-480e-44a4-a0f3-c42c5fc7cb3f"
      },
      "execution_count": 11,
      "outputs": [
        {
          "output_type": "stream",
          "name": "stdout",
          "text": [
            "Enter all elements of the list: [1,2,3,4,5,[] ,6,7,8,9,0]\n",
            "There is an Empty list in [1, 2, 3, 4, 5, [], 6, 7, 8, 9, 0] at Position 5\n",
            "The List after removing [] is [1, 2, 3, 4, 5, 6, 7, 8, 9, 0]\n"
          ]
        }
      ]
    },
    {
      "cell_type": "markdown",
      "source": [
        "10.Write a Python Program to Cloning or Copying a list ?"
      ],
      "metadata": {
        "id": "uDWiKg3sfRZ4"
      }
    },
    {
      "cell_type": "code",
      "source": [
        "import copy\n",
        "\n",
        "def cloneList():\n",
        "    in_list = eval(input('Enter a list'))\n",
        "    print(in_list, id(in_list))\n",
        "    cloned_list = in_list.copy()\n",
        "    print(cloned_list, id(cloned_list))\n",
        "\n",
        "cloneList()"
      ],
      "metadata": {
        "colab": {
          "base_uri": "https://localhost:8080/"
        },
        "id": "i-kC38nafF7j",
        "outputId": "11718805-1971-4d70-d061-9bc0e4ba5843"
      },
      "execution_count": 12,
      "outputs": [
        {
          "output_type": "stream",
          "name": "stdout",
          "text": [
            "Enter a list[1,2,3,4,5,6,7,8,9,0]\n",
            "[1, 2, 3, 4, 5, 6, 7, 8, 9, 0] 133958320725888\n",
            "[1, 2, 3, 4, 5, 6, 7, 8, 9, 0] 133958320712064\n"
          ]
        }
      ]
    },
    {
      "cell_type": "markdown",
      "source": [
        "11.Write a Python Program to count occurences of an element in a list ?"
      ],
      "metadata": {
        "id": "66r8V5dvfdJC"
      }
    },
    {
      "cell_type": "code",
      "source": [
        "def checkOccurence():\n",
        "    in_list = eval(input('Enter the elements of the list: '))\n",
        "    in_num = eval(input('Enter the element to find: '))\n",
        "    count = 0\n",
        "    if in_num in in_list:\n",
        "        for ele in in_list:\n",
        "            if ele == in_num:\n",
        "                count = count+1\n",
        "    print(f'There are {count} occurences of {in_num} in {in_list}')\n",
        "\n",
        "checkOccurence()"
      ],
      "metadata": {
        "colab": {
          "base_uri": "https://localhost:8080/"
        },
        "id": "WycZo0wKfUPV",
        "outputId": "b657bffc-1705-4636-f426-26bc9aa2971c"
      },
      "execution_count": 13,
      "outputs": [
        {
          "output_type": "stream",
          "name": "stdout",
          "text": [
            "Enter the elements of the list: 1,2,3,1,2,3,1,2,3,4,5,4,5,4,5,6,7,8,6,7,6,8\n",
            "Enter the element to find: 6\n",
            "There are 3 occurences of 6 in (1, 2, 3, 1, 2, 3, 1, 2, 3, 4, 5, 4, 5, 4, 5, 6, 7, 8, 6, 7, 6, 8)\n"
          ]
        }
      ]
    },
    {
      "cell_type": "code",
      "source": [],
      "metadata": {
        "id": "maKfBAnvffRi"
      },
      "execution_count": null,
      "outputs": []
    }
  ]
}