{
  "nbformat": 4,
  "nbformat_minor": 0,
  "metadata": {
    "colab": {
      "provenance": []
    },
    "kernelspec": {
      "name": "python3",
      "display_name": "Python 3"
    },
    "language_info": {
      "name": "python"
    }
  },
  "cells": [
    {
      "cell_type": "markdown",
      "source": [
        "1. Write a Python Program to Find LCM?"
      ],
      "metadata": {
        "id": "-OPWJBlJXg4k"
      }
    },
    {
      "cell_type": "code",
      "execution_count": 1,
      "metadata": {
        "colab": {
          "base_uri": "https://localhost:8080/"
        },
        "id": "hWN0-GIZXgTj",
        "outputId": "22654c8a-bd19-45d3-a282-d0c2ff0bd36f"
      },
      "outputs": [
        {
          "output_type": "stream",
          "name": "stdout",
          "text": [
            "Enter the first number: 4\n",
            "Enter the second number: 5\n",
            "LCM of 4 and 5 is 20\n"
          ]
        }
      ],
      "source": [
        "def gcd(a,b):\n",
        "  while b:\n",
        "    a, b = b, a % b\n",
        "  return a\n",
        "\n",
        "def lcm(a, b):\n",
        "  return (a * b) // gcd(a,b)\n",
        "\n",
        "num1 = int(input(\"Enter the first number: \"))\n",
        "num2 = int(input(\"Enter the second number: \"))\n",
        "\n",
        "result = lcm(num1, num2)\n",
        "\n",
        "print(f\"LCM of {num1} and {num2} is {result}\")"
      ]
    },
    {
      "cell_type": "markdown",
      "source": [
        "2. Write a Python Program to Find HCF?"
      ],
      "metadata": {
        "id": "BH-IxO6bZwco"
      }
    },
    {
      "cell_type": "code",
      "source": [
        "def gcd(a,b):\n",
        "  while b:\n",
        "    a, b = b, a % b\n",
        "\n",
        "    return a\n",
        "\n",
        "num1 = int(input(\"Enter the frist number: \"))\n",
        "num2 = int(input(\"Enter the second number: \"))\n",
        "\n",
        "\n",
        "result = gcd(num1,num2)\n",
        "\n",
        "\n",
        "\n",
        "print(f\"HCF of {num1} and {num2} is {result}\")"
      ],
      "metadata": {
        "colab": {
          "base_uri": "https://localhost:8080/"
        },
        "id": "2_w6_MSkYw7e",
        "outputId": "3041e070-1508-4dcf-efb8-26913eae63c6"
      },
      "execution_count": 7,
      "outputs": [
        {
          "output_type": "stream",
          "name": "stdout",
          "text": [
            "Enter the frist number: 12\n",
            "Enter the second number: 3\n",
            "HCF of 12 and 3 is 3\n"
          ]
        }
      ]
    },
    {
      "cell_type": "markdown",
      "source": [
        "3. Write a Python Program to Convert Decimal to Binary, Octal and Hexadecimal?"
      ],
      "metadata": {
        "id": "z-9GQcFEcYkY"
      }
    },
    {
      "cell_type": "code",
      "source": [
        "decimal_num = int(input(\"Enter a decimal number: \"))\n",
        "\n",
        "binary_num = bin(decimal_num)[2:]\n",
        "octal_num = oct(decimal_num)[2:]\n",
        "hexadecimal_num = hex(decimal_num)[2:]\n",
        "\n",
        "print(f\"Binary representation: {binary_num}\")\n",
        "print(f\"Octal representation: {octal_num}\")\n",
        "print(f\"Hexadecimal representation: {hexadecimal_num}\")"
      ],
      "metadata": {
        "colab": {
          "base_uri": "https://localhost:8080/"
        },
        "id": "bUPbLyfMbd7o",
        "outputId": "38dc5bb9-f738-4bca-ece9-6d90b7c2d38b"
      },
      "execution_count": 8,
      "outputs": [
        {
          "output_type": "stream",
          "name": "stdout",
          "text": [
            "Enter a decimal number: 12345\n",
            "Binary representation: 11000000111001\n",
            "Octal representation: 30071\n",
            "Hexadecimal representation: 3039\n"
          ]
        }
      ]
    },
    {
      "cell_type": "markdown",
      "source": [
        "4. Write a Python Program To Find ASCII value of a character?"
      ],
      "metadata": {
        "id": "UeaDlv8veZZB"
      }
    },
    {
      "cell_type": "code",
      "source": [
        "char = input(\"Enter a character: \")\n",
        "\n",
        "ascii_value = ord(char)\n",
        "\n",
        "print(f\"The ASCII value of '{char}' is {ascii_value}\")"
      ],
      "metadata": {
        "colab": {
          "base_uri": "https://localhost:8080/"
        },
        "id": "QjPTi2DneQR7",
        "outputId": "60eb99aa-fad0-4eab-9c91-7b3e49def17b"
      },
      "execution_count": 13,
      "outputs": [
        {
          "output_type": "stream",
          "name": "stdout",
          "text": [
            "Enter a character: 1\n",
            "The ASCII value of '1' is 49\n"
          ]
        }
      ]
    },
    {
      "cell_type": "markdown",
      "source": [
        "5. Write a Python Program to Make a Simple Calculator with 4 basic mathematical operations?"
      ],
      "metadata": {
        "id": "2XDMhctwfQqQ"
      }
    },
    {
      "cell_type": "code",
      "source": [
        "def add(a,b):\n",
        "  return a+b\n",
        "\n",
        "def subtract(a,b):\n",
        "  return a-b\n",
        "\n",
        "def multiply(a,b):\n",
        "  return a * b\n",
        "\n",
        "def divide(a,b):\n",
        "  if b != 0:\n",
        "    return a / b\n",
        "  else:\n",
        "    print(\"cant's divide by zero\")\n",
        "\n",
        "print(\"Select operation\")\n",
        "print(\"Enter 1 for Addition\")\n",
        "print(\"Enter 2 for Subtraction\")\n",
        "print(\"Enter 3 for Multiplication\")\n",
        "print(\"Enter 4 for Division\")\n",
        "\n",
        "option = int(input(\"Enter option (1/2/3/4): \"))\n",
        "\n",
        "num1 = int(input(\"Enter the first number: \"))\n",
        "num2 = int(input(\"Enter the second number: \"))\n",
        "\n",
        "if option == 1:\n",
        "  print(f\"{num1} + {num2} = {add(num1,num2)}\")\n",
        "\n",
        "elif option == 2:\n",
        "  print(f\"{num1} - {num2} = {subtract(num1,num2)}\")\n",
        "\n",
        "elif option == 3:\n",
        "  print(f\"{num1} * {num2} = {multiply(num1,num2)}\")\n",
        "\n",
        "elif option == 4:\n",
        "  print(f\"{num1} / {num2} = {divide(num1,num2)}\")\n",
        "\n",
        "else:\n",
        "  print(\"Invalide option\")\n"
      ],
      "metadata": {
        "colab": {
          "base_uri": "https://localhost:8080/"
        },
        "id": "N3koWCabevsA",
        "outputId": "b73eec78-ec56-4849-dc70-364f9fc52b22"
      },
      "execution_count": 19,
      "outputs": [
        {
          "output_type": "stream",
          "name": "stdout",
          "text": [
            "Select operation\n",
            "Enter 1 for Addition\n",
            "Enter 2 for Subtraction\n",
            "Enter 3 for Multiplication\n",
            "Enter 4 for Division\n",
            "Enter option (1/2/3/4): 4\n",
            "Enter the first number: 10\n",
            "Enter the second number: 2\n",
            "10 / 2 = 5.0\n"
          ]
        }
      ]
    },
    {
      "cell_type": "code",
      "source": [],
      "metadata": {
        "id": "U3nY39bekUIi"
      },
      "execution_count": 18,
      "outputs": []
    }
  ]
}